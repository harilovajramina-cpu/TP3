{
 "cells": [
  {
   "cell_type": "markdown",
   "id": "d68c1dee",
   "metadata": {
    "id": "d68c1dee"
   },
   "source": [
    "# Practical_3: Iterable objects or Containers"
   ]
  },
  {
   "cell_type": "markdown",
   "id": "00e2e5c8",
   "metadata": {
    "id": "bea983a3"
   },
   "source": [
    "---\n",
    "\n",
    "### Exercise 1:\n",
    "Create a list of integers from 1 to 10.\n",
    "\n",
    "```python\n",
    "# Exercise 1\n",
    "```"
   ]
  },
  {
   "cell_type": "code",
   "execution_count": 1,
   "id": "cde39414",
   "metadata": {},
   "outputs": [
    {
     "data": {
      "text/plain": [
       "[1, 2, 3, 4, 5, 6, 7, 8, 9, 10]"
      ]
     },
     "execution_count": 1,
     "metadata": {},
     "output_type": "execute_result"
    }
   ],
   "source": [
    "A=[1,2,3,4,5,6,7,8,9,10]\n",
    "A"
   ]
  },
  {
   "cell_type": "markdown",
   "id": "c5646692",
   "metadata": {
    "id": "bea983a3"
   },
   "source": [
    "---\n",
    "\n",
    "### Exercise 2:\n",
    "Create a tuple containing the elements `\"apple\"`, `\"banana\"`, and `\"cherry\"`.\n",
    "\n",
    "```python\n",
    "# Exercise 2\n",
    "```"
   ]
  },
  {
   "cell_type": "code",
   "execution_count": null,
   "id": "bdb86afd",
   "metadata": {},
   "outputs": [],
   "source": [
    "my_tuple=( \"apple\", \"banana\", \"cherry\")"
   ]
  },
  {
   "cell_type": "markdown",
   "id": "9bc5d676",
   "metadata": {
    "id": "bea983a3"
   },
   "source": [
    "---\n",
    "\n",
    "### Exercise 3:\n",
    "Convert the list `numbers = [10, 20, 30, 40]` into a tuple.\n",
    "\n",
    "```python\n",
    "# Exercise 3\n",
    "```"
   ]
  },
  {
   "cell_type": "code",
   "execution_count": 3,
   "id": "0e0f84c2",
   "metadata": {},
   "outputs": [
    {
     "data": {
      "text/plain": [
       "(10, 20, 30, 40)"
      ]
     },
     "execution_count": 3,
     "metadata": {},
     "output_type": "execute_result"
    }
   ],
   "source": [
    "numbers = [10, 20, 30, 40]\n",
    "tuple(numbers)"
   ]
  },
  {
   "cell_type": "markdown",
   "id": "76469591",
   "metadata": {
    "id": "bea983a3"
   },
   "source": [
    "---\n",
    "\n",
    "### Exercise 4:\n",
    "Create a set containing the elements `1, 2, 3, 4, 5`.\n",
    "\n",
    "```python\n",
    "# Exercise 4\n",
    "```"
   ]
  },
  {
   "cell_type": "code",
   "execution_count": 5,
   "id": "5fa16944",
   "metadata": {},
   "outputs": [
    {
     "data": {
      "text/plain": [
       "{1, 2, 3, 4, 5}"
      ]
     },
     "execution_count": 5,
     "metadata": {},
     "output_type": "execute_result"
    }
   ],
   "source": [
    "a={ 1, 2, 3, 4, 5}\n",
    "a"
   ]
  },
  {
   "cell_type": "markdown",
   "id": "983a2b47",
   "metadata": {
    "id": "bea983a3"
   },
   "source": [
    "---\n",
    "\n",
    "### Exercise 5:\n",
    "Create a dictionary `student` with the keys `\"name\"`, `\"age\"`, and `\"grade\"` and corresponding values `\"Alice\"`, `20`, and `\"A\"`.\n",
    "\n",
    "```python\n",
    "# Exercise 5\n",
    "```"
   ]
  },
  {
   "cell_type": "code",
   "execution_count": 6,
   "id": "a2efc727",
   "metadata": {},
   "outputs": [
    {
     "data": {
      "text/plain": [
       "{'name': 'ALice', 'age': 23, 'grade': 'Master'}"
      ]
     },
     "execution_count": 6,
     "metadata": {},
     "output_type": "execute_result"
    }
   ],
   "source": [
    "student={\"name\":\"ALice\",\"age\":23, \"grade\":\"Master\"}\n",
    "student"
   ]
  },
  {
   "cell_type": "markdown",
   "id": "4499c89c",
   "metadata": {
    "id": "bea983a3"
   },
   "source": [
    "---\n",
    "\n",
    "### Exercise 6:\n",
    "Access the second element of the list `[10, 20, 30, 40, 50]` using indexing.\n",
    "\n",
    "```python\n",
    "# Exercise 6\n",
    "```"
   ]
  },
  {
   "cell_type": "code",
   "execution_count": 7,
   "id": "53d9cb61",
   "metadata": {},
   "outputs": [
    {
     "data": {
      "text/plain": [
       "20"
      ]
     },
     "execution_count": 7,
     "metadata": {},
     "output_type": "execute_result"
    }
   ],
   "source": [
    "liste=[10, 20, 30, 40, 50]\n",
    "liste[1]"
   ]
  },
  {
   "cell_type": "markdown",
   "id": "336d36eb",
   "metadata": {
    "id": "bea983a3"
   },
   "source": [
    "---\n",
    "\n",
    "### Exercise 7:\n",
    "Change the third element of the list `fruits = [\"apple\", \"banana\", \"cherry\", \"orange\"]` to `\"mango\"`.\n",
    "\n",
    "```python\n",
    "# Exercise 7\n",
    "```"
   ]
  },
  {
   "cell_type": "code",
   "execution_count": 8,
   "id": "9b214eab",
   "metadata": {},
   "outputs": [
    {
     "data": {
      "text/plain": [
       "['apple', 'banana', 'mango', 'orange']"
      ]
     },
     "execution_count": 8,
     "metadata": {},
     "output_type": "execute_result"
    }
   ],
   "source": [
    "fruits = [\"apple\", \"banana\", \"cherry\", \"orange\"]\n",
    "fruits[2]=\"mango\"\n",
    "fruits"
   ]
  },
  {
   "cell_type": "markdown",
   "id": "11b9d13e",
   "metadata": {
    "id": "bea983a3"
   },
   "source": [
    "---\n",
    "\n",
    "### Exercise 8:\n",
    "Add the number `6` to the set `numbers = {1, 2, 3, 4, 5}`.\n",
    "\n",
    "```python\n",
    "# Exercise 8\n",
    "```"
   ]
  },
  {
   "cell_type": "code",
   "execution_count": 11,
   "id": "778dbb7a",
   "metadata": {},
   "outputs": [
    {
     "data": {
      "text/plain": [
       "{1, 2, 3, 4, 5, 6}"
      ]
     },
     "execution_count": 11,
     "metadata": {},
     "output_type": "execute_result"
    }
   ],
   "source": [
    "numbers = {1, 2, 3, 4, 5}\n",
    "numbers.add(6)\n",
    "numbers\n"
   ]
  },
  {
   "cell_type": "markdown",
   "id": "cb41af4a",
   "metadata": {
    "id": "bea983a3"
   },
   "source": [
    "---\n",
    "\n",
    "### Exercise 9:\n",
    "Remove the key `\"age\"` from the dictionary `person = {\"name\": \"John\", \"age\": 25, \"city\": \"New York\"}`.\n",
    "\n",
    "```python\n",
    "# Exercise 9\n",
    "```"
   ]
  },
  {
   "cell_type": "code",
   "execution_count": 12,
   "id": "0415ef5d",
   "metadata": {},
   "outputs": [
    {
     "data": {
      "text/plain": [
       "{'name': 'John', 'city': 'New York'}"
      ]
     },
     "execution_count": 12,
     "metadata": {},
     "output_type": "execute_result"
    }
   ],
   "source": [
    "person = {\"name\": \"John\", \"age\": 25, \"city\": \"New York\"}\n",
    "del person[\"age\"]\n",
    "person"
   ]
  },
  {
   "cell_type": "markdown",
   "id": "03fbe651",
   "metadata": {
    "id": "bea983a3"
   },
   "source": [
    "---\n",
    "\n",
    "### Exercise 10:\n",
    "Create a range object starting from 0 to 9.\n",
    "\n",
    "```python\n",
    "# Exercise 10\n",
    "```"
   ]
  },
  {
   "cell_type": "code",
   "execution_count": 14,
   "id": "de6bc254",
   "metadata": {},
   "outputs": [
    {
     "name": "stdout",
     "output_type": "stream",
     "text": [
      "0\n",
      "1\n",
      "2\n",
      "3\n",
      "4\n",
      "5\n",
      "6\n",
      "7\n",
      "8\n",
      "9\n"
     ]
    }
   ],
   "source": [
    "for i in range(10):\n",
    "    print(i)"
   ]
  },
  {
   "cell_type": "markdown",
   "id": "8c4ab6a3",
   "metadata": {
    "id": "bea983a3"
   },
   "source": [
    "---\n",
    "\n",
    "### Exercise 11:\n",
    "Use a list comprehension to create a list of squares of numbers from 1 to 10.\n",
    "\n",
    "```python\n",
    "# Exercise 11\n",
    "```"
   ]
  },
  {
   "cell_type": "code",
   "execution_count": 17,
   "id": "0d32f121",
   "metadata": {},
   "outputs": [
    {
     "name": "stdout",
     "output_type": "stream",
     "text": [
      "[4, 16, 36, 64, 100]\n"
     ]
    }
   ],
   "source": [
    "squares = [x**2 for x in range(1, 11) if x % 2 == 0]\n",
    "print(squares)\n"
   ]
  },
  {
   "cell_type": "markdown",
   "id": "4d19abe0",
   "metadata": {
    "id": "bea983a3"
   },
   "source": [
    "---\n",
    "\n",
    "### Exercise 12:\n",
    "Create a tuple of even numbers between 2 and 10 using a tuple comprehension.\n",
    "\n",
    "```python\n",
    "# Exercise 12\n",
    "```"
   ]
  },
  {
   "cell_type": "code",
   "execution_count": 23,
   "id": "ceb765e1",
   "metadata": {},
   "outputs": [
    {
     "name": "stdout",
     "output_type": "stream",
     "text": [
      "(2, 4, 6, 8, 10)\n"
     ]
    }
   ],
   "source": [
    "my_tuple= tuple( x for x in range(1,11) if x % 2 == 0)\n",
    "print(my_tuple)"
   ]
  },
  {
   "cell_type": "markdown",
   "id": "ec7ac0b9",
   "metadata": {
    "id": "bea983a3"
   },
   "source": [
    "---\n",
    "\n",
    "### Exercise 13:\n",
    "Use a for loop to iterate through the list `fruits = [\"apple\", \"banana\", \"cherry\"]` and print each element.\n",
    "\n",
    "```python\n",
    "# Exercise 13\n",
    "```"
   ]
  },
  {
   "cell_type": "code",
   "execution_count": 25,
   "id": "ab36e1f9",
   "metadata": {},
   "outputs": [
    {
     "name": "stdout",
     "output_type": "stream",
     "text": [
      "apple\n",
      "banana\n",
      "cherry\n"
     ]
    }
   ],
   "source": [
    "fruits = [\"apple\", \"banana\", \"cherry\"]\n",
    "for x in fruits:\n",
    "    print(x)"
   ]
  },
  {
   "cell_type": "markdown",
   "id": "f4723d71",
   "metadata": {
    "id": "bea983a3"
   },
   "source": [
    "---\n",
    "\n",
    "### Exercise 14:\n",
    "Check if the value `3` exists in the set `numbers = {1, 2, 3, 4, 5}`.\n",
    "\n",
    "```python\n",
    "# Exercise 14\n",
    "```"
   ]
  },
  {
   "cell_type": "code",
   "execution_count": 29,
   "id": "f2f73202",
   "metadata": {},
   "outputs": [
    {
     "name": "stdout",
     "output_type": "stream",
     "text": [
      "True\n"
     ]
    }
   ],
   "source": [
    "numbers = {1, 2, 3, 4, 5}\n",
    "if 3 in numbers:\n",
    "    print(True)"
   ]
  },
  {
   "cell_type": "markdown",
   "id": "46ca9050",
   "metadata": {
    "id": "bea983a3"
   },
   "source": [
    "---\n",
    "\n",
    "### Exercise 15:\n",
    "Use the `len()` function to find the length of the tuple `numbers = (10, 20, 30)`.\n",
    "\n",
    "```python\n",
    "# Exercise 15\n",
    "```"
   ]
  },
  {
   "cell_type": "code",
   "execution_count": 30,
   "id": "594324b2",
   "metadata": {},
   "outputs": [
    {
     "data": {
      "text/plain": [
       "3"
      ]
     },
     "execution_count": 30,
     "metadata": {},
     "output_type": "execute_result"
    }
   ],
   "source": [
    "numbers = (10, 20, 30)\n",
    "len(numbers)"
   ]
  },
  {
   "cell_type": "markdown",
   "id": "e9953f8d",
   "metadata": {
    "id": "bea983a3"
   },
   "source": [
    "---\n",
    "\n",
    "### Exercise 16:\n",
    "Add the value `100` at the end of the list `scores = [80, 85, 90, 95]`.\n",
    "\n",
    "```python\n",
    "# Exercise 16\n",
    "```"
   ]
  },
  {
   "cell_type": "code",
   "execution_count": 31,
   "id": "f94e83bd",
   "metadata": {},
   "outputs": [
    {
     "data": {
      "text/plain": [
       "[80, 85, 90, 95, 100]"
      ]
     },
     "execution_count": 31,
     "metadata": {},
     "output_type": "execute_result"
    }
   ],
   "source": [
    "scores = [80, 85, 90, 95]\n",
    "scores.append(100)\n",
    "scores"
   ]
  },
  {
   "cell_type": "markdown",
   "id": "dc6b5e95",
   "metadata": {
    "id": "bea983a3"
   },
   "source": [
    "---\n",
    "\n",
    "### Exercise 17:\n",
    "Write a function that takes a list as input and returns the sum of all elements in the list.\n",
    "\n",
    "```python\n",
    "# Exercise 17\n",
    "```"
   ]
  },
  {
   "cell_type": "code",
   "execution_count": 9,
   "id": "af8c2b03",
   "metadata": {},
   "outputs": [],
   "source": [
    "def liste(l):\n",
    "     return sum(l)"
   ]
  },
  {
   "cell_type": "code",
   "execution_count": 10,
   "id": "28144a73",
   "metadata": {},
   "outputs": [
    {
     "data": {
      "text/plain": [
       "16"
      ]
     },
     "execution_count": 10,
     "metadata": {},
     "output_type": "execute_result"
    }
   ],
   "source": [
    "liste([2,3,5,6])"
   ]
  },
  {
   "cell_type": "markdown",
   "id": "583230dc",
   "metadata": {
    "id": "bea983a3"
   },
   "source": [
    "---\n",
    "\n",
    "### Exercise 18:\n",
    "Create a set containing the unique elements of the list `numbers = [1, 2, 2, 3, 4, 4, 5]`.\n",
    "\n",
    "```python\n",
    "# Exercise 18\n",
    "```"
   ]
  },
  {
   "cell_type": "code",
   "execution_count": 1,
   "id": "c24b6fd0",
   "metadata": {},
   "outputs": [
    {
     "data": {
      "text/plain": [
       "{1, 2, 3, 4, 5}"
      ]
     },
     "execution_count": 1,
     "metadata": {},
     "output_type": "execute_result"
    }
   ],
   "source": [
    "numbers = [1, 2, 2, 3, 4, 4, 5]\n",
    "unique=set(numbers)\n",
    "unique"
   ]
  },
  {
   "cell_type": "markdown",
   "id": "9ee1cde8",
   "metadata": {
    "id": "bea983a3"
   },
   "source": [
    "---\n",
    "\n",
    "### Exercise 19:\n",
    "Convert the string `\"hello\"` into a list of characters.\n",
    "\n",
    "```python\n",
    "# Exercise 19\n",
    "```\n",
    "\n",
    "-"
   ]
  },
  {
   "cell_type": "code",
   "execution_count": 12,
   "id": "7b4b221b",
   "metadata": {},
   "outputs": [
    {
     "name": "stdout",
     "output_type": "stream",
     "text": [
      "['h', 'e', 'l', 'l', 'o']\n"
     ]
    }
   ],
   "source": [
    "a=\"hello\"\n",
    "a=list(a)\n",
    "print(a)"
   ]
  },
  {
   "cell_type": "markdown",
   "id": "5dce14ad",
   "metadata": {
    "id": "bea983a3"
   },
   "source": [
    "--\n",
    "\n",
    "### Exercise 20:\n",
    "Write a Python function that reverses a tuple `(1, 2, 3, 4)`.\n",
    "\n",
    "```python\n",
    "# Exercise 20\n",
    "```"
   ]
  },
  {
   "cell_type": "code",
   "execution_count": 18,
   "id": "9db74c0d",
   "metadata": {},
   "outputs": [
    {
     "data": {
      "text/plain": [
       "(4, 3, 2, 1)"
      ]
     },
     "execution_count": 18,
     "metadata": {},
     "output_type": "execute_result"
    }
   ],
   "source": [
    "tup=(1, 2, 3, 4)\n",
    "list(tup)\n",
    "a=tup[::-1]\n",
    "tup=tuple(a)\n",
    "tup"
   ]
  },
  {
   "cell_type": "markdown",
   "id": "b667974a",
   "metadata": {
    "id": "bea983a3"
   },
   "source": [
    "---\n",
    "\n",
    "### Exercise 21:\n",
    "Merge two dictionaries `dict1 = {\"a\": 1, \"b\": 2}` and `dict2 = {\"c\": 3, \"d\": 4}` into a single dictionary.\n",
    "\n",
    "```python\n",
    "# Exercise 21\n",
    "```"
   ]
  },
  {
   "cell_type": "code",
   "execution_count": 2,
   "id": "faeabb0c",
   "metadata": {},
   "outputs": [
    {
     "data": {
      "text/plain": [
       "{'a': 1, 'b': 2, 'c': 3, 'd': 4}"
      ]
     },
     "execution_count": 2,
     "metadata": {},
     "output_type": "execute_result"
    }
   ],
   "source": [
    "dict1 = {\"a\": 1, \"b\": 2}\n",
    "dict2 = {\"c\": 3, \"d\": 4}\n",
    "DICT={**dict1,**dict2}\n",
    "DICT"
   ]
  },
  {
   "cell_type": "markdown",
   "id": "2beaaaa6",
   "metadata": {
    "id": "bea983a3"
   },
   "source": [
    "---\n",
    "\n",
    "### Exercise 22:\n",
    "Create a dictionary where keys are numbers from 1 to 5, and values are their squares.\n",
    "\n",
    "```python\n",
    "# Exercise 22\n",
    "```"
   ]
  },
  {
   "cell_type": "code",
   "execution_count": 4,
   "id": "8a731b87",
   "metadata": {},
   "outputs": [
    {
     "data": {
      "text/plain": [
       "{1, 4, 9, 16}"
      ]
     },
     "execution_count": 4,
     "metadata": {},
     "output_type": "execute_result"
    }
   ],
   "source": [
    "dictionnaire={i**2 for i in range(1,5)}\n",
    "dictionnaire"
   ]
  },
  {
   "cell_type": "markdown",
   "id": "ab72a3c1",
   "metadata": {
    "id": "bea983a3"
   },
   "source": [
    "---\n",
    "\n",
    "### Exercise 23:\n",
    "Write a Python program to iterate through a dictionary and print each key-value pair.\n",
    "\n",
    "```python\n",
    "# Exercise 23\n",
    "```"
   ]
  },
  {
   "cell_type": "code",
   "execution_count": 5,
   "id": "cdc7709d",
   "metadata": {},
   "outputs": [
    {
     "name": "stdout",
     "output_type": "stream",
     "text": [
      "1:a\n",
      "2:b\n",
      "3:c\n",
      "4:d\n"
     ]
    }
   ],
   "source": [
    "dico = {\"a\": 1, \"b\": 2,\"c\": 3, \"d\": 4}\n",
    "for value,keys in dico.items() :\n",
    "    print(f\"{keys}:{value}\")\n"
   ]
  },
  {
   "cell_type": "markdown",
   "id": "f2ced8f7",
   "metadata": {
    "id": "bea983a3"
   },
   "source": [
    "---\n",
    "\n",
    "### Exercise 24:\n",
    "Create a list of the first 5 letters of the alphabet using the `chr()` function.\n",
    "\n",
    "```python\n",
    "# Exercise 24\n",
    "```"
   ]
  },
  {
   "cell_type": "code",
   "execution_count": 8,
   "id": "22a26c52",
   "metadata": {},
   "outputs": [
    {
     "data": {
      "text/plain": [
       "['A', 'B', 'C', 'D', 'E']"
      ]
     },
     "execution_count": 8,
     "metadata": {},
     "output_type": "execute_result"
    }
   ],
   "source": [
    "liste=[chr(i) for i in range(65,70)]\n",
    "liste"
   ]
  },
  {
   "cell_type": "markdown",
   "id": "18831a7a",
   "metadata": {
    "id": "bea983a3"
   },
   "source": [
    "---\n",
    "\n",
    "### Exercise 25:\n",
    "Use the `zip()` function to combine two lists `[1, 2, 3]` and `[\"a\", \"b\", \"c\"]` into a list of tuples.\n",
    "\n",
    "```python\n",
    "# Exercise 25\n",
    "```\n",
    "\n",
    "-"
   ]
  },
  {
   "cell_type": "code",
   "execution_count": 10,
   "id": "d95434bf",
   "metadata": {},
   "outputs": [
    {
     "name": "stdout",
     "output_type": "stream",
     "text": [
      "[(1, 'a'), (2, 'b'), (3, 'c')]\n"
     ]
    }
   ],
   "source": [
    "liste1=[1, 2, 3]\n",
    "liste2=[\"a\", \"b\", \"c\"]\n",
    "combine=zip(liste1,liste2)\n",
    "combineListe= list(combine)\n",
    "print(combineListe)"
   ]
  },
  {
   "cell_type": "markdown",
   "id": "716e0fe4",
   "metadata": {
    "id": "bea983a3"
   },
   "source": [
    "--\n",
    "\n",
    "### Exercise 26:\n",
    "Find the index of the value `50` in the list `[10, 20, 30, 40, 50]`.\n",
    "\n",
    "```python\n",
    "# Exercise 26\n",
    "```"
   ]
  },
  {
   "cell_type": "code",
   "execution_count": 17,
   "id": "e749e7f6",
   "metadata": {},
   "outputs": [
    {
     "data": {
      "text/plain": [
       "4"
      ]
     },
     "execution_count": 17,
     "metadata": {},
     "output_type": "execute_result"
    }
   ],
   "source": [
    "x=[10, 20, 30, 40, 50]\n",
    "x.index(50 )"
   ]
  },
  {
   "cell_type": "markdown",
   "id": "1cb4ac1a",
   "metadata": {
    "id": "bea983a3"
   },
   "source": [
    "---\n",
    "\n",
    "### Exercise 27:\n",
    "Sort the list `names = [\"Alice\", \"Bob\", \"Charlie\", \"David\"]` in alphabetical order.\n",
    "\n",
    "```python\n",
    "# Exercise 27\n",
    "```\n",
    "\n",
    "-"
   ]
  },
  {
   "cell_type": "code",
   "execution_count": 24,
   "id": "d4d3ff68",
   "metadata": {},
   "outputs": [
    {
     "name": "stdout",
     "output_type": "stream",
     "text": [
      "['Alice', 'Bob', 'Charlie', 'David']\n"
     ]
    }
   ],
   "source": [
    "names = [\"Alice\", \"Bob\", \"Charlie\", \"David\"] \n",
    "listnames=sorted(names)\n",
    "print(listnames)"
   ]
  },
  {
   "cell_type": "markdown",
   "id": "fdf5bcdb",
   "metadata": {
    "id": "bea983a3"
   },
   "source": [
    "--\n",
    "\n",
    "### Exercise 28:\n",
    "Write a Python function that takes a list of integers as input and returns the largest number.\n",
    "\n",
    "```python\n",
    "# Exercise 28\n",
    "```"
   ]
  },
  {
   "cell_type": "markdown",
   "id": "7e475402",
   "metadata": {
    "id": "bea983a3"
   },
   "source": [
    "---\n",
    "\n",
    "### Exercise 29:\n",
    "Use the `count()` method to count how many times `\"apple\"` appears in the list `fruits = [\"apple\", \"banana\", \"apple\", \"orange\"]`.\n",
    "\n",
    "```python\n",
    "# Exercise 29\n",
    "```"
   ]
  },
  {
   "cell_type": "code",
   "execution_count": 35,
   "id": "c778b0f9",
   "metadata": {},
   "outputs": [
    {
     "name": "stdout",
     "output_type": "stream",
     "text": [
      "2\n"
     ]
    }
   ],
   "source": [
    "fruits = [\"apple\", \"banana\", \"apple\", \"orange\"]\n",
    "appleCount=fruits.count(\"apple\")\n",
    "print(appleCount)"
   ]
  },
  {
   "cell_type": "markdown",
   "id": "5dfce0a3",
   "metadata": {
    "id": "bea983a3"
   },
   "source": [
    "---\n",
    "\n",
    "### Exercise 30:\n",
    "Create a dictionary `person` where keys are `\"name\"`, `\"age\"`, and `\"city\"`, and values are `\"Alice\"`, `25`, and `\"New York\"` respectively. Then access the value of the `\"city\"` key.\n",
    "\n",
    "```python\n",
    "# Exercise 30\n",
    "```"
   ]
  },
  {
   "cell_type": "code",
   "execution_count": 37,
   "id": "eddcbcc4",
   "metadata": {},
   "outputs": [
    {
     "name": "stdout",
     "output_type": "stream",
     "text": [
      "New work\n"
     ]
    }
   ],
   "source": [
    "dictionnaires={\"name\":\"Alice\",\"age\":25,\"city\":\"New work\"}\n",
    "city=dictionnaires[\"city\"]\n",
    "print(city)"
   ]
  },
  {
   "cell_type": "markdown",
   "id": "189a1441",
   "metadata": {
    "id": "bea983a3"
   },
   "source": [
    "---\n",
    "\n",
    "### Exercise 31:\n",
    "Write a Python function that takes a list as input and returns a new list with all duplicates removed.\n",
    "\n",
    "```python\n",
    "# Exercise 31\n",
    "```"
   ]
  },
  {
   "cell_type": "markdown",
   "id": "83a58abf",
   "metadata": {
    "id": "bea983a3"
   },
   "source": [
    "---\n",
    "\n",
    "### Exercise 32:\n",
    "Write a Python function that takes two lists and returns their intersection.\n",
    "\n",
    "```python\n",
    "# Exercise 32\n",
    "```"
   ]
  },
  {
   "cell_type": "code",
   "execution_count": null,
   "id": "a5f9e8a9",
   "metadata": {},
   "outputs": [],
   "source": [
    "a=[4,5,7,\"a\",\"y\",9]\n",
    "b=[4,3,7,\"a\",\"q\",8]\n"
   ]
  },
  {
   "cell_type": "code",
   "execution_count": null,
   "id": "e7fbbd82",
   "metadata": {},
   "outputs": [],
   "source": [
    "def liste(liste1,liste2):\n",
    "    "
   ]
  },
  {
   "cell_type": "markdown",
   "id": "9b318e36",
   "metadata": {
    "id": "bea983a3"
   },
   "source": [
    "---\n",
    "\n",
    "### Exercise 33:\n",
    "Create a generator that yields the squares of numbers from 1 to 10.\n",
    "\n",
    "```python\n",
    "# Exercise 33\n",
    "```"
   ]
  },
  {
   "cell_type": "code",
   "execution_count": 51,
   "id": "13c5f099",
   "metadata": {},
   "outputs": [
    {
     "name": "stdout",
     "output_type": "stream",
     "text": [
      "1\n",
      "4\n",
      "9\n",
      "16\n",
      "25\n",
      "36\n",
      "49\n",
      "64\n",
      "81\n",
      "100\n"
     ]
    }
   ],
   "source": [
    "def generator():\n",
    "    i=1\n",
    "    while i<=10:\n",
    "        yield i*i\n",
    "        i+=1\n",
    "ms=generator()\n",
    "for j in ms:\n",
    "    print(j)"
   ]
  },
  {
   "cell_type": "markdown",
   "id": "54f3aa76",
   "metadata": {
    "id": "bea983a3"
   },
   "source": [
    "---\n",
    "\n",
    "### Exercise 34:\n",
    "Write a Python function that takes a dictionary as input and returns the sum of all its values.\n",
    "\n",
    "```python\n",
    "# Exercise 34\n",
    "```"
   ]
  },
  {
   "cell_type": "code",
   "execution_count": 62,
   "id": "4adebe19",
   "metadata": {},
   "outputs": [
    {
     "name": "stdout",
     "output_type": "stream",
     "text": [
      "The sum of values in the dictionary is: 60\n"
     ]
    }
   ],
   "source": [
    "def SumOfDictionaryValue(input_dico):\n",
    "    return sum(input_dico.values())\n",
    "\n",
    "# Example usage:\n",
    "my_dict = {'a': 10, 'b': 20, 'c': 30}\n",
    "total_sum = SumOfDictionaryValue(my_dict)\n",
    "print(f\"The sum of values in the dictionary is: {total_sum}\")"
   ]
  },
  {
   "cell_type": "markdown",
   "id": "f9f5ea5b",
   "metadata": {
    "id": "bea983a3"
   },
   "source": [
    "---\n",
    "\n",
    "### Exercise 35:\n",
    "Use the `sorted()` function to sort the list `[3, 1, 4, 1, 5, 9]` in ascending order.\n",
    "\n",
    "```python\n",
    "# Exercise 35\n",
    "```"
   ]
  },
  {
   "cell_type": "code",
   "execution_count": 64,
   "id": "b5b500fe",
   "metadata": {},
   "outputs": [
    {
     "data": {
      "text/plain": [
       "[1, 1, 3, 4, 5, 9]"
      ]
     },
     "execution_count": 64,
     "metadata": {},
     "output_type": "execute_result"
    }
   ],
   "source": [
    "mylist=[3, 1, 4, 1, 5, 9]\n",
    "sorted(mylist)"
   ]
  },
  {
   "cell_type": "markdown",
   "id": "4b033b0e",
   "metadata": {
    "id": "bea983a3"
   },
   "source": [
    "---\n",
    "\n",
    "### Exercise 36:\n",
    "Write a Python function that takes a list of strings as input and returns the longest string.\n",
    "\n",
    "```python\n",
    "# Exercise 36\n",
    "```"
   ]
  },
  {
   "cell_type": "code",
   "execution_count": 80,
   "id": "67c220fa",
   "metadata": {},
   "outputs": [],
   "source": [
    "a = [\"harilovam\",\"Purity\",\"sarika\"]"
   ]
  },
  {
   "cell_type": "code",
   "execution_count": 81,
   "id": "cd87ac00",
   "metadata": {},
   "outputs": [
    {
     "data": {
      "text/plain": [
       "'harilovam'"
      ]
     },
     "execution_count": 81,
     "metadata": {},
     "output_type": "execute_result"
    }
   ],
   "source": [
    "result  = max( a, key=len)\n",
    "result"
   ]
  },
  {
   "cell_type": "markdown",
   "id": "edb03b88",
   "metadata": {
    "id": "bea983a3"
   },
   "source": [
    "---\n",
    "\n",
    "### Exercise 37:\n",
    "Check if all the elements in the list `[1, 2, 3, 4, 5]` are greater than 0 using the `all()` function.\n",
    "\n",
    "```python\n",
    "# Exercise 37\n",
    "```"
   ]
  },
  {
   "cell_type": "code",
   "execution_count": 88,
   "id": "07d6b36d",
   "metadata": {},
   "outputs": [
    {
     "name": "stdout",
     "output_type": "stream",
     "text": [
      "True\n"
     ]
    }
   ],
   "source": [
    "a=[1, 2, 3, 4, 5]\n",
    "res= all(x>0 for x in a)\n",
    "print(res)"
   ]
  },
  {
   "cell_type": "markdown",
   "id": "74043add",
   "metadata": {
    "id": "bea983a3"
   },
   "source": [
    "---\n",
    "\n",
    "### Exercise 38:\n",
    "Create a list of tuples where each tuple contains a number and its square for numbers from 1 to 5.\n",
    "\n",
    "```python\n",
    "# Exercise 38\n",
    "```"
   ]
  },
  {
   "cell_type": "code",
   "execution_count": 89,
   "id": "2a27219e",
   "metadata": {},
   "outputs": [
    {
     "data": {
      "text/plain": [
       "[(1, 1), (2, 4), (3, 9), (4, 16), (5, 25)]"
      ]
     },
     "execution_count": 89,
     "metadata": {},
     "output_type": "execute_result"
    }
   ],
   "source": [
    "liste_tuple=[(i,i**2) for i in range(1,6)]\n",
    "liste_tuple"
   ]
  },
  {
   "cell_type": "markdown",
   "id": "c86ef753",
   "metadata": {
    "id": "bea983a3"
   },
   "source": [
    "---\n",
    "\n",
    "### Exercise 39:\n",
    "Write a Python function that takes a list of tuples and returns a list of the second elements from each tuple.\n",
    "\n",
    "```python\n",
    "# Exercise 39\n",
    "```"
   ]
  },
  {
   "cell_type": "code",
   "execution_count": 90,
   "id": "afb7e93c",
   "metadata": {},
   "outputs": [],
   "source": [
    "def second_elt(L):\n",
    "    for i in L:\n",
    "        print(i[1])"
   ]
  },
  {
   "cell_type": "code",
   "execution_count": 93,
   "id": "e58e3dc1",
   "metadata": {},
   "outputs": [
    {
     "name": "stdout",
     "output_type": "stream",
     "text": [
      "4\n",
      "9\n",
      "7\n"
     ]
    }
   ],
   "source": [
    "second_elt([(3,4), (7,9),(2,7)])"
   ]
  },
  {
   "cell_type": "code",
   "execution_count": null,
   "id": "694d556b",
   "metadata": {},
   "outputs": [],
   "source": [
    "a=[i for in range(1,8)]\n",
    "b="
   ]
  },
  {
   "cell_type": "markdown",
   "id": "f9f656b4",
   "metadata": {
    "id": "bea983a3"
   },
   "source": [
    "---\n",
    "\n",
    "### Exercise 40:\n",
    "Write a Python function that flattens a list of lists into a single list.\n",
    "\n",
    "```python\n",
    "# Exercise 40\n",
    "```"
   ]
  },
  {
   "cell_type": "code",
   "execution_count": null,
   "id": "59462691",
   "metadata": {},
   "outputs": [],
   "source": []
  },
  {
   "cell_type": "markdown",
   "id": "1fcb7d7d",
   "metadata": {
    "id": "bea983a3"
   },
   "source": [
    "---\n",
    "\n",
    "### Exercise 41:\n",
    "Use the `enumerate()` function to iterate through the list `[\"apple\", \"banana\", \"cherry\"]` and print the index and value.\n",
    "\n",
    "```python\n",
    "# Exercise 41\n",
    "```"
   ]
  },
  {
   "cell_type": "code",
   "execution_count": 99,
   "id": "1e240f66",
   "metadata": {},
   "outputs": [],
   "source": [
    "def liste(M):\n",
    "    for value,index in enumerate(M):\n",
    "        print(value,index)"
   ]
  },
  {
   "cell_type": "code",
   "execution_count": 100,
   "id": "9fb49f62",
   "metadata": {},
   "outputs": [
    {
     "name": "stdout",
     "output_type": "stream",
     "text": [
      "0 apple\n",
      "1 banana\n",
      "2 cherry\n"
     ]
    }
   ],
   "source": [
    "liste([\"apple\", \"banana\", \"cherry\"])"
   ]
  },
  {
   "cell_type": "code",
   "execution_count": 101,
   "id": "1a288561",
   "metadata": {},
   "outputs": [
    {
     "data": {
      "text/plain": [
       "0"
      ]
     },
     "execution_count": 101,
     "metadata": {},
     "output_type": "execute_result"
    }
   ],
   "source": [
    "t = ()\n",
    "len(t)"
   ]
  },
  {
   "cell_type": "markdown",
   "id": "8ad12a85",
   "metadata": {
    "id": "bea983a3"
   },
   "source": [
    "---\n",
    "\n",
    "### Exercise 42:\n",
    "Write a Python program that checks if a tuple is empty.\n",
    "\n",
    "```python\n",
    "# Exercise 42\n",
    "```"
   ]
  },
  {
   "cell_type": "code",
   "execution_count": 103,
   "id": "95835903",
   "metadata": {},
   "outputs": [
    {
     "name": "stdout",
     "output_type": "stream",
     "text": [
      "la tuple est vide\n"
     ]
    }
   ],
   "source": [
    "\n",
    "tupl=()\n",
    "if len(tupl)==0:\n",
    "    print(\"la tuple est vide\")\n",
    "else:\n",
    "    print(\"la tuple n'est pas vide\")"
   ]
  },
  {
   "cell_type": "markdown",
   "id": "e91cc920",
   "metadata": {
    "id": "bea983a3"
   },
   "source": [
    "---\n",
    "\n",
    "### Exercise 43:\n",
    "Create a list of even numbers between 1 and 20 using the `range()` function.\n",
    "\n",
    "```python\n",
    "# Exercise 43\n",
    "```"
   ]
  },
  {
   "cell_type": "code",
   "execution_count": 111,
   "id": "b822c3a2",
   "metadata": {},
   "outputs": [
    {
     "name": "stdout",
     "output_type": "stream",
     "text": [
      "[2, 4, 6, 8, 10, 12, 14, 16, 18]\n"
     ]
    }
   ],
   "source": [
    "even= [(i*2) for i in range(1,10)]\n",
    "print(even)"
   ]
  },
  {
   "cell_type": "markdown",
   "id": "56cbaeab",
   "metadata": {
    "id": "bea983a3"
   },
   "source": [
    "---\n",
    "\n",
    "### Exercise 44:\n",
    "Write a Python function that takes a list of numbers as input and returns the list in reverse order.\n",
    "\n",
    "```python\n",
    "# Exercise 44\n",
    "```"
   ]
  },
  {
   "cell_type": "code",
   "execution_count": 132,
   "id": "b3647924",
   "metadata": {},
   "outputs": [],
   "source": [
    "def lista(i):\n",
    "    i.reverse()\n",
    "    print(i)\n",
    "    \n"
   ]
  },
  {
   "cell_type": "code",
   "execution_count": 134,
   "id": "ff71fd12",
   "metadata": {},
   "outputs": [
    {
     "name": "stdout",
     "output_type": "stream",
     "text": [
      "[4, 3, 2, 1]\n"
     ]
    }
   ],
   "source": [
    "my_list = [1, 2, 3, 4]\n",
    "lista(my_list)\n",
    "\n",
    "#print(my_list)"
   ]
  },
  {
   "cell_type": "markdown",
   "id": "b2ac8744",
   "metadata": {
    "id": "bea983a3"
   },
   "source": [
    "---\n",
    "\n",
    "### Exercise 45:\n",
    "Create a dictionary comprehension that maps numbers from 1 to 5 to their cubes.\n",
    "\n",
    "```python\n",
    "# Exercise 45\n",
    "```"
   ]
  },
  {
   "cell_type": "code",
   "execution_count": 1,
   "id": "33b5bf13",
   "metadata": {},
   "outputs": [
    {
     "data": {
      "text/plain": [
       "{1: 1, 2: 8, 3: 27, 4: 64, 5: 125}"
      ]
     },
     "execution_count": 1,
     "metadata": {},
     "output_type": "execute_result"
    }
   ],
   "source": [
    "dictio={i:i**3 for i in range(1,6)}\n",
    "dictio"
   ]
  },
  {
   "cell_type": "markdown",
   "id": "481435c6-53ce-400a-af46-edec9700ae46",
   "metadata": {
    "id": "bea983a3"
   },
   "source": [
    "---\n",
    "\n",
    "### Exercise 46:\n",
    "Write a Python program that creates a new list containing only the unique elements of the list `[1, 2, 2, 3, 4, 4, 5]`.\n",
    "\n",
    "```python\n",
    "# Exercise 46\n",
    "```"
   ]
  },
  {
   "cell_type": "code",
   "execution_count": 2,
   "id": "02567899-22ea-47c1-9f5e-25f567561fdf",
   "metadata": {},
   "outputs": [
    {
     "name": "stdout",
     "output_type": "stream",
     "text": [
      "[1, 2, 3, 4, 5]\n"
     ]
    }
   ],
   "source": [
    "liste=[1, 2, 2, 3, 4, 4, 5]\n",
    "unique_list=list(set(liste))\n",
    "print(unique_list)"
   ]
  },
  {
   "cell_type": "markdown",
   "id": "abf06aeb-8987-4c33-b614-d2ea08c37df3",
   "metadata": {
    "id": "bea983a3"
   },
   "source": [
    "---\n",
    "\n",
    "### Exercise 47:\n",
    "Write a Python function that takes a list of dictionaries and returns a list of the values for a given key.\n",
    "\n",
    "```python\n",
    "# Exercise 47\n",
    "```"
   ]
  },
  {
   "cell_type": "code",
   "execution_count": 5,
   "id": "22e4a2c9-4f48-4b27-8eaa-41fd2b0f5805",
   "metadata": {},
   "outputs": [
    {
     "data": {
      "text/plain": [
       "dict_keys(['a', 'b', 'c', 'd'])"
      ]
     },
     "execution_count": 5,
     "metadata": {},
     "output_type": "execute_result"
    }
   ],
   "source": [
    "dic_list={'a':1,'b':2,'c': 3, 'd':4}\n",
    "dic_list.values()"
   ]
  },
  {
   "cell_type": "markdown",
   "id": "e99f2262-3b98-4145-aa91-927512c24a3e",
   "metadata": {
    "id": "bea983a3"
   },
   "source": [
    "---\n",
    "\n",
    "### Exercise 48:\n",
    "Write a Python function that uses a generator to yield the Fibonacci sequence up to `n` terms.\n",
    "\n",
    "```python\n",
    "# Exercise 48\n",
    "```"
   ]
  },
  {
   "cell_type": "code",
   "execution_count": 44,
   "id": "e4294f5b-fc8d-4a96-a449-24eaf532a7e2",
   "metadata": {},
   "outputs": [],
   "source": [
    "from functools import lru_cache\n",
    "\n",
    "@lru_cache(None)\n",
    "def fib(n):\n",
    "    if n <= 1:\n",
    "        return n\n",
    "    return fib(n-1) + fib(n-2)"
   ]
  },
  {
   "cell_type": "code",
   "execution_count": 45,
   "id": "827f3125-b7e5-4a0a-bcc6-ed18bded26eb",
   "metadata": {},
   "outputs": [
    {
     "data": {
      "text/plain": [
       "8"
      ]
     },
     "execution_count": 45,
     "metadata": {},
     "output_type": "execute_result"
    }
   ],
   "source": [
    "fib(6)"
   ]
  },
  {
   "cell_type": "markdown",
   "id": "9b07d06f-7e47-4d88-b7e6-8a68cc86b9bd",
   "metadata": {
    "id": "bea983a3"
   },
   "source": [
    "---\n",
    "\n",
    "### Exercise 49:\n",
    "Write a Python function that takes a string and returns a list of all unique characters in the string.\n",
    "\n",
    "```python\n",
    "# Exercise 49\n",
    "```"
   ]
  },
  {
   "cell_type": "code",
   "execution_count": 48,
   "id": "827ef7eb-1b05-4d87-b652-03640a5a9440",
   "metadata": {},
   "outputs": [],
   "source": [
    "def unique(s):\n",
    "    uniList=[]\n",
    "    for char in s:\n",
    "        if char not in uniList:\n",
    "            uniList.append(char)\n",
    "    return uniList\n"
   ]
  },
  {
   "cell_type": "code",
   "execution_count": 49,
   "id": "8b68ebb1-6fcd-461f-b84c-508d774b9243",
   "metadata": {},
   "outputs": [
    {
     "data": {
      "text/plain": [
       "[3, 6, 7, 72]"
      ]
     },
     "execution_count": 49,
     "metadata": {},
     "output_type": "execute_result"
    }
   ],
   "source": [
    "s=[3,6,7,3,6,72,6,7,7]\n",
    "unique(s)"
   ]
  },
  {
   "cell_type": "markdown",
   "id": "11299562-a765-4e47-a620-3fa414997c12",
   "metadata": {
    "id": "bea983a3"
   },
   "source": [
    "---\n",
    "\n",
    "### Exercise 50:\n",
    "Write a Python function that merges two sorted lists into a single sorted list.\n",
    "\n",
    "```python\n",
    "# Exercise 50\n",
    "```"
   ]
  },
  {
   "cell_type": "code",
   "execution_count": 50,
   "id": "f6986551-33ad-4755-82ca-eeb4a8c1ae88",
   "metadata": {},
   "outputs": [],
   "source": [
    "def merge(l1,l2):\n",
    "    return l1+l2"
   ]
  },
  {
   "cell_type": "code",
   "execution_count": 51,
   "id": "8c993cd7-25b0-41ec-a40c-d2e57be4dab5",
   "metadata": {},
   "outputs": [
    {
     "data": {
      "text/plain": [
       "[1, 2, 3, 4, 5, 6, 3, 6, 7, 3, 6, 72, 6, 7, 7]"
      ]
     },
     "execution_count": 51,
     "metadata": {},
     "output_type": "execute_result"
    }
   ],
   "source": [
    "l1=[1, 2, 3, 4, 5, 6]\n",
    "l2=[3,6,7,3,6,72,6,7,7]\n",
    "merge(l1,l2)"
   ]
  },
  {
   "cell_type": "markdown",
   "id": "9ca1a493-b00f-421f-9647-d2762de01f59",
   "metadata": {
    "id": "bea983a3"
   },
   "source": [
    "---\n",
    "\n",
    "### Exercise 51:\n",
    "Use the\n",
    "\n",
    " `filter()` function to filter out odd numbers from the list `[1, 2, 3, 4, 5, 6]`.\n",
    "\n",
    "```python\n",
    "# Exercise 51\n",
    "```\n",
    "\n",
    "-"
   ]
  },
  {
   "cell_type": "code",
   "execution_count": 1,
   "id": "07621e69-bfd1-4942-825c-bb9d44d304ba",
   "metadata": {},
   "outputs": [
    {
     "name": "stdout",
     "output_type": "stream",
     "text": [
      "[1, 3, 5, 7]\n"
     ]
    }
   ],
   "source": [
    "def odd(number):\n",
    "    return number % 2 != 0\n",
    "\n",
    "numbers = [1, 2, 3, 4, 5, 6, 7]\n",
    "odd_num = list(filter(odd, numbers))\n",
    "print(odd_num)\n"
   ]
  },
  {
   "cell_type": "markdown",
   "id": "beb99040-9b4c-4350-8aaf-ed95197cf949",
   "metadata": {
    "id": "bea983a3"
   },
   "source": [
    "--\n",
    "\n",
    "### Exercise 52:\n",
    "Write a Python program that converts a list of tuples `[(1, 2), (3, 4), (5, 6)]` into a dictionary.\n",
    "\n",
    "```python\n",
    "# Exercise 52\n",
    "```"
   ]
  },
  {
   "cell_type": "code",
   "execution_count": 69,
   "id": "e0cb7ae9-661e-490f-9a2f-33cdd27ee45b",
   "metadata": {},
   "outputs": [
    {
     "name": "stdout",
     "output_type": "stream",
     "text": [
      "{1: 2, 3: 4, 5: 6}\n"
     ]
    }
   ],
   "source": [
    "d=[(1, 2), (3, 4), (5, 6)]\n",
    "dico=dict(d)\n",
    "print(dico)"
   ]
  },
  {
   "cell_type": "markdown",
   "id": "d0aadaad-42e9-42e8-97fa-7686c8d39de9",
   "metadata": {
    "id": "bea983a3"
   },
   "source": [
    "---\n",
    "\n",
    "### Exercise 53:\n",
    "Write a Python function that takes two sets and returns their symmetric difference.\n",
    "\n",
    "```python\n",
    "# Exercise 53\n",
    "```"
   ]
  },
  {
   "cell_type": "code",
   "execution_count": 70,
   "id": "cd75ce4f-23ea-4e93-87e4-dd663f5e3314",
   "metadata": {},
   "outputs": [
    {
     "data": {
      "text/plain": [
       "{2, 5, 7, 22, 35, 45, 56, 78}"
      ]
     },
     "execution_count": 70,
     "metadata": {},
     "output_type": "execute_result"
    }
   ],
   "source": [
    "s1={3,35,6,78,8,4,4,}\n",
    "\n",
    "s2={2,5,6,7,8,4,3,22,45,56,7}\n",
    "\n"
   ]
  },
  {
   "cell_type": "markdown",
   "id": "05d738b2-1eee-4d9a-bdf0-da044d6d76a2",
   "metadata": {
    "id": "bea983a3"
   },
   "source": [
    "---\n",
    "\n",
    "### Exercise 54:\n",
    "Write a Python program that finds the common elements in three lists `list1`, `list2`, and `list3`.\n",
    "\n",
    "```python\n",
    "# Exercise 54\n",
    "```"
   ]
  },
  {
   "cell_type": "code",
   "execution_count": 78,
   "id": "984ad178-892f-49ea-885c-aad27b368b79",
   "metadata": {},
   "outputs": [
    {
     "name": "stdout",
     "output_type": "stream",
     "text": [
      "{8, 4, 6, 7}\n"
     ]
    }
   ],
   "source": [
    "liste1=[3,35,6,7,8,4,4]\n",
    "\n",
    "liste2=[2,5,6,7,8,4,3,22,45,56,7]\n",
    "\n",
    "liste3=[2,5,63,7,8,4,34,22,45,6,7]\n",
    "common_el=set(liste1) & set(liste2) & set(liste3)\n",
    "print(common_el)"
   ]
  },
  {
   "cell_type": "markdown",
   "id": "89d20fd9-f52d-4362-90bb-8e27688aa09b",
   "metadata": {
    "id": "bea983a3"
   },
   "source": [
    "---\n",
    "\n",
    "### Exercise 55:\n",
    "Write a Python function that returns the factorial of a number using recursion.\n",
    "\n",
    "```python\n",
    "# Exercise 55\n",
    "```"
   ]
  },
  {
   "cell_type": "code",
   "execution_count": 79,
   "id": "1325e03d-73e2-4e04-9725-c5ec6f570274",
   "metadata": {},
   "outputs": [],
   "source": [
    "def fact(n):\n",
    "    if n<=1:\n",
    "        return 1\n",
    "    return n*fact(n-1)"
   ]
  },
  {
   "cell_type": "code",
   "execution_count": 80,
   "id": "e47376da-7832-45ce-97ca-20bdc996b0cf",
   "metadata": {},
   "outputs": [
    {
     "data": {
      "text/plain": [
       "24"
      ]
     },
     "execution_count": 80,
     "metadata": {},
     "output_type": "execute_result"
    }
   ],
   "source": [
    "fact(4)"
   ]
  },
  {
   "cell_type": "markdown",
   "id": "a5d451e6-19bc-4865-a83e-2a56ced4261a",
   "metadata": {
    "id": "bea983a3"
   },
   "source": [
    "---\n",
    "\n",
    "### Exercise 56:\n",
    "Write a Python program that removes all empty strings from the list `[\"apple\", \"\", \"banana\", \"\", \"cherry\"]`.\n",
    "\n",
    "```python\n",
    "# Exercise 56\n",
    "```"
   ]
  },
  {
   "cell_type": "code",
   "execution_count": 81,
   "id": "5303612b-5b3e-4115-8d76-631554c89a18",
   "metadata": {},
   "outputs": [
    {
     "name": "stdout",
     "output_type": "stream",
     "text": [
      "['apple', '', 'banana', '', 'cherry']\n"
     ]
    }
   ],
   "source": [
    "liste=[\"apple\", \"\", \"banana\", \"\", \"cherry\"]\n",
    "liste=[item for item in liste if item!=0]\n",
    "print(liste)"
   ]
  },
  {
   "cell_type": "markdown",
   "id": "b7370388-4bb4-492a-ad00-0be21ba600ea",
   "metadata": {
    "id": "bea983a3"
   },
   "source": [
    "---\n",
    "\n",
    "### Exercise 57:\n",
    "Write a Python function that takes a dictionary and returns a new dictionary with the keys and values swapped.\n",
    "\n",
    "```python\n",
    "# Exercise 57\n",
    "```"
   ]
  },
  {
   "cell_type": "code",
   "execution_count": null,
   "id": "b3cb9a31-f101-480a-a2ce-edc50dc05090",
   "metadata": {},
   "outputs": [],
   "source": []
  },
  {
   "cell_type": "markdown",
   "id": "225d8d93-394f-4298-8629-06ae083beb43",
   "metadata": {
    "id": "bea983a3"
   },
   "source": [
    "---\n",
    "\n",
    "### Exercise 58:\n",
    "Write a Python function that takes a list of integers and returns a new list with only the even numbers.\n",
    "\n",
    "```python\n",
    "# Exercise 58\n",
    "```"
   ]
  },
  {
   "cell_type": "code",
   "execution_count": 4,
   "id": "f7112379-dfb0-4cf0-ae7d-9fce999074ca",
   "metadata": {},
   "outputs": [
    {
     "name": "stdout",
     "output_type": "stream",
     "text": [
      "[2, 4, 6, 6, 6, 72, 6]\n"
     ]
    }
   ],
   "source": [
    "def even(Liste):\n",
    "    return Liste %2 ==0\n",
    "    \n",
    "Liste=[1, 2, 3, 4, 5, 6, 3, 6, 7, 3, 6, 72, 6, 7, 7]\n",
    "even_list=list(filter(even,Liste))\n",
    "print(even_list)  "
   ]
  },
  {
   "cell_type": "markdown",
   "id": "f103a9ca-68f4-456b-8fcd-07751aedf25c",
   "metadata": {
    "id": "bea983a3"
   },
   "source": [
    "---\n",
    "\n",
    "### Exercise 59:\n",
    "Write a Python function that takes a list of tuples and returns a list of the first elements of each tuple.\n",
    "\n",
    "```python\n",
    "# Exercise 59\n",
    "```\n",
    "\n",
    "---"
   ]
  },
  {
   "cell_type": "code",
   "execution_count": 20,
   "id": "c24d7c49-3da3-49b6-a9c5-edef9e0cc6dc",
   "metadata": {},
   "outputs": [],
   "source": [
    "def liste(liste_tuple):\n",
    "    return [t[0] for t in liste_tuple]"
   ]
  },
  {
   "cell_type": "code",
   "execution_count": 22,
   "id": "5da373cc-0dd5-4fba-a071-fc1ec170c334",
   "metadata": {},
   "outputs": [
    {
     "name": "stdout",
     "output_type": "stream",
     "text": [
      "[3, 6, 12]\n"
     ]
    }
   ],
   "source": [
    "liste_tuple=[(3,5,6,7),(6,66,77,22,69),(12,34,56,78)]\n",
    "lst=liste(liste_tuple)\n",
    "print(lst)"
   ]
  },
  {
   "cell_type": "markdown",
   "id": "39ff695b-4a44-4128-a593-986e1ddcaedf",
   "metadata": {
    "id": "bea983a3"
   },
   "source": [
    "### Exercise 60:\n",
    "Write a Python program that removes duplicates from a list without changing the order of elements.\n",
    "\n",
    "```python\n",
    "# Exercise 60\n",
    "```"
   ]
  },
  {
   "cell_type": "code",
   "execution_count": 9,
   "id": "6b2adaec-2633-40bb-9a48-27adf6515ad2",
   "metadata": {},
   "outputs": [],
   "source": [
    "def remove_duplicates(liste):\n",
    "    unique = []\n",
    "    for item in liste:\n",
    "        if item not in unique:\n",
    "            unique.append(item)\n",
    "    return unique"
   ]
  },
  {
   "cell_type": "code",
   "execution_count": 10,
   "id": "1079ba37-8175-4eaf-aef6-ed3788973208",
   "metadata": {},
   "outputs": [
    {
     "data": {
      "text/plain": [
       "[1, 3, 5, 6]"
      ]
     },
     "execution_count": 10,
     "metadata": {},
     "output_type": "execute_result"
    }
   ],
   "source": [
    "liste=[1,3,5,6,3,5,6]\n",
    "remove_duplicates(liste)"
   ]
  },
  {
   "cell_type": "markdown",
   "id": "22995db6-36c8-430b-8809-c0d53438e943",
   "metadata": {
    "id": "bea983a3"
   },
   "source": [
    "---\n",
    "\n",
    "### Exercise 61:\n",
    "Use the `map()` function to convert a list of strings to a list of their lengths.\n",
    "\n",
    "```python\n",
    "# Exercise 61\n",
    "```"
   ]
  },
  {
   "cell_type": "code",
   "execution_count": 15,
   "id": "a9cbdb0f-e5e4-4148-bfa8-4b7ca82b9ada",
   "metadata": {},
   "outputs": [],
   "source": [
    "def lenght(lst):\n",
    "    return list(map(len,lst))\n",
    "    "
   ]
  },
  {
   "cell_type": "code",
   "execution_count": 17,
   "id": "c1ddd8f9-eab2-4b1a-8dce-e06bb3f1cc4c",
   "metadata": {},
   "outputs": [
    {
     "data": {
      "text/plain": [
       "[6, 5, 5]"
      ]
     },
     "execution_count": 17,
     "metadata": {},
     "output_type": "execute_result"
    }
   ],
   "source": [
    "lst=[\"banana\",\"mango\",\"apple\"]\n",
    "lenght(lst)"
   ]
  },
  {
   "cell_type": "markdown",
   "id": "9a6df5e5-4c96-4f74-add8-24c626740273",
   "metadata": {
    "id": "bea983a3"
   },
   "source": [
    "---\n",
    "\n",
    "### Exercise 62:\n",
    "Write a Python program that calculates the average of a list of numbers.\n",
    "\n",
    "```python\n",
    "# Exercise 62\n",
    "```"
   ]
  },
  {
   "cell_type": "code",
   "execution_count": 22,
   "id": "378292b1-3003-4c6b-a730-a272e5707094",
   "metadata": {
    "scrolled": true
   },
   "outputs": [
    {
     "name": "stdout",
     "output_type": "stream",
     "text": [
      "30.0\n"
     ]
    }
   ],
   "source": [
    "lis=[10, 20, 30, 40, 50]\n",
    "average=sum(lis)/len(lis)\n",
    "print(average)"
   ]
  },
  {
   "cell_type": "markdown",
   "id": "390a568c-b819-44ad-94e5-f97e21686072",
   "metadata": {
    "id": "bea983a3"
   },
   "source": [
    "---\n",
    "\n",
    "### Exercise 63:\n",
    "Write a Python function that generates a list of the first `n` Fibonacci numbers.\n",
    "\n",
    "```python\n",
    "# Exercise 63\n",
    "```"
   ]
  },
  {
   "cell_type": "code",
   "execution_count": null,
   "id": "d088cd5e-6e07-4610-a4f4-bc18399931f0",
   "metadata": {},
   "outputs": [],
   "source": []
  },
  {
   "cell_type": "markdown",
   "id": "919664e6-2400-43d9-92b4-5d49292537cf",
   "metadata": {
    "id": "bea983a3"
   },
   "source": [
    "---\n",
    "\n",
    "### Exercise 64:\n",
    "Write a Python program that counts how many times each element appears in the list `[\"apple\", \"banana\", \"apple\", \"cherry\"]`.\n",
    "\n",
    "```python\n",
    "# Exercise 64\n",
    "```"
   ]
  },
  {
   "cell_type": "code",
   "execution_count": 27,
   "id": "c8d15250-2a15-44f0-b44a-c2024917b90d",
   "metadata": {
    "scrolled": true
   },
   "outputs": [
    {
     "name": "stdout",
     "output_type": "stream",
     "text": [
      "{'apple': 2, 'banana': 1, 'cherry': 1}\n"
     ]
    }
   ],
   "source": [
    "fruits= [\"apple\", \"banana\", \"apple\", \"cherry\"]\n",
    "dic_fruits={}\n",
    "\n",
    "for i in fruits:\n",
    "    if i in dic_fruits:\n",
    "        dic_fruits[i]+= 1\n",
    "    else:\n",
    "        dic_fruits[i]= 1\n",
    "print(dic_fruits)"
   ]
  },
  {
   "cell_type": "markdown",
   "id": "3a21a127-f5b2-4fc6-b8ce-af579fbb2638",
   "metadata": {
    "id": "bea983a3"
   },
   "source": [
    "---\n",
    "\n",
    "### Exercise 65:\n",
    "Write a Python program that removes all occurrences of a specific value from a list.\n",
    "\n",
    "```python\n",
    "# Exercise 65\n",
    "```"
   ]
  },
  {
   "cell_type": "code",
   "execution_count": null,
   "id": "a2b0bf61-88e0-4c67-991f-367500333014",
   "metadata": {},
   "outputs": [],
   "source": [
    "frts= [\"apple\", \"banana\", \"apple\", \"cherry\"]\n",
    "def removal(liste)\n",
    "for i in liste:\n",
    "    if i \n",
    "        \n",
    "        "
   ]
  },
  {
   "cell_type": "markdown",
   "id": "945129ac-3c0b-4270-9ec4-c07aa8c5cacd",
   "metadata": {
    "id": "bea983a3"
   },
   "source": [
    "---\n",
    "\n",
    "### Exercise 66:\n",
    "Write a Python function that takes a list of strings and returns a list of the strings that start with a vowel.\n",
    "\n",
    "```python\n",
    "# Exercise 66\n",
    "```"
   ]
  },
  {
   "cell_type": "code",
   "execution_count": 35,
   "id": "8bc666f6-07cd-4028-92a6-a90183e2bb4e",
   "metadata": {},
   "outputs": [],
   "source": [
    "def start_vowel(V):\n",
    "    vowels=('a','o','i','e','u','y')\n",
    "    return [i for i in V if i.lower().startswith(vowels)]\n",
    "            "
   ]
  },
  {
   "cell_type": "code",
   "execution_count": 36,
   "id": "f7091966-83e6-4c8d-b979-985c4495cda3",
   "metadata": {},
   "outputs": [
    {
     "name": "stdout",
     "output_type": "stream",
     "text": [
      "['apple', 'apple']\n"
     ]
    }
   ],
   "source": [
    "V= [\"apple\", \"banana\", \"apple\", \"cherry\"]\n",
    "resultat=start_vowel(V)\n",
    "print(resultat)"
   ]
  },
  {
   "cell_type": "markdown",
   "id": "d2573e6d-d24c-4451-85bd-f6a8bd08bada",
   "metadata": {
    "id": "bea983a3"
   },
   "source": [
    "#### ---\n",
    "\n",
    "### Exercise 67:\n",
    "Write a Python program that finds the intersection of two sets `set1` and `set2`.\n",
    "\n",
    "```python\n",
    "# Exercise 67\n",
    "```\n",
    "\n",
    "---"
   ]
  },
  {
   "cell_type": "code",
   "execution_count": 39,
   "id": "61c57639-273e-44e7-8d05-c124a0f3aaf1",
   "metadata": {},
   "outputs": [
    {
     "name": "stdout",
     "output_type": "stream",
     "text": [
      "{2, 3, 5}\n"
     ]
    }
   ],
   "source": [
    "set1={2,3,5,7,8}\n",
    "set2={2,6,5,4,6,3}\n",
    "intersection=set1&set2\n",
    "print(intersection)"
   ]
  },
  {
   "cell_type": "markdown",
   "id": "30523721-4931-4f79-9854-190a65ece716",
   "metadata": {
    "id": "bea983a3"
   },
   "source": [
    "### Exercise 68:\n",
    "Write a Python function that flattens a nested list.\n",
    "\n",
    "```python\n",
    "# Exercise 68\n",
    "```"
   ]
  },
  {
   "cell_type": "code",
   "execution_count": 44,
   "id": "71872512-7b7c-4364-be71-b9e934cb9ab2",
   "metadata": {},
   "outputs": [],
   "source": [
    "def flattens(nested_list):\n",
    "    l=[]\n",
    "    for i in nested_list:\n",
    "        if isinstance(i,list):\n",
    "            l.extend(flattens(i))\n",
    "        else:\n",
    "            l.append(i)\n",
    "    return l\n",
    "    "
   ]
  },
  {
   "cell_type": "code",
   "execution_count": 45,
   "id": "34b50d80-3de3-420b-80c6-5db8862eeb65",
   "metadata": {},
   "outputs": [
    {
     "data": {
      "text/plain": [
       "[1, 2, 3, 4, 5, 6, 7, 8]"
      ]
     },
     "execution_count": 45,
     "metadata": {},
     "output_type": "execute_result"
    }
   ],
   "source": [
    "data = [1, [2, [3, 4], 5], [6, 7], 8]\n",
    "flattens(data)"
   ]
  },
  {
   "cell_type": "markdown",
   "id": "6a8df6cf-3448-4410-b97c-207585c7a85f",
   "metadata": {
    "id": "bea983a3"
   },
   "source": [
    "---\n",
    "\n",
    "### Exercise 69:\n",
    "Write a Python program that checks if all the elements in a list are unique.\n",
    "\n",
    "```python\n",
    "# Exercise 69\n",
    "```"
   ]
  },
  {
   "cell_type": "code",
   "execution_count": 50,
   "id": "b0f7c0dc-ebe5-485e-af1e-1936f05c0724",
   "metadata": {},
   "outputs": [],
   "source": [
    "def check(l):\n",
    "    return len(l)==len(set(l))"
   ]
  },
  {
   "cell_type": "code",
   "execution_count": 51,
   "id": "2139216f-88d3-419c-ad05-912c9a0e9274",
   "metadata": {},
   "outputs": [
    {
     "data": {
      "text/plain": [
       "False"
      ]
     },
     "execution_count": 51,
     "metadata": {},
     "output_type": "execute_result"
    }
   ],
   "source": [
    "l=[1, 2, 3,3,4, 4, 5, 6, 7, 6,7,8,8]\n",
    "check(l)\n",
    "    "
   ]
  },
  {
   "cell_type": "markdown",
   "id": "881fce51-01a2-4ac4-bc25-ebd65e5c309f",
   "metadata": {
    "id": "bea983a3"
   },
   "source": [
    "---\n",
    "\n",
    "### Exercise 70:\n",
    "Use the `reduce()` function from the `functools` module to multiply all elements in a list.\n",
    "\n",
    "```python\n",
    "# Exercise 70\n",
    "```"
   ]
  },
  {
   "cell_type": "code",
   "execution_count": 55,
   "id": "a0df874d-580f-4dce-b876-0c9324b8283d",
   "metadata": {},
   "outputs": [],
   "source": [
    "from functools import reduce\n",
    "def multy(liste):\n",
    "    return reduce(lambda x,y:x*y,liste)"
   ]
  },
  {
   "cell_type": "code",
   "execution_count": 56,
   "id": "2da5cb32-9c9f-4ad2-979e-70dfad206a3a",
   "metadata": {},
   "outputs": [
    {
     "data": {
      "text/plain": [
       "162570240"
      ]
     },
     "execution_count": 56,
     "metadata": {},
     "output_type": "execute_result"
    }
   ],
   "source": [
    "liste=[1, 2, 3,3,4, 4, 5, 6, 7, 6,7,8,8]\n",
    "multy(liste)"
   ]
  },
  {
   "cell_type": "markdown",
   "id": "a5ab6463-f9b8-41ce-8d2f-f5a74f2ba339",
   "metadata": {
    "id": "bea983a3"
   },
   "source": [
    "---\n",
    "\n",
    "### Exercise 71:\n",
    "Write a Python function that takes a list of strings and returns a dictionary where keys are strings and values are their lengths.\n",
    "\n",
    "```python\n",
    "# Exercise 71\n",
    "```"
   ]
  },
  {
   "cell_type": "code",
   "execution_count": 58,
   "id": "c6358452-9ea9-4a9b-9c86-b11f63f06317",
   "metadata": {},
   "outputs": [],
   "source": [
    "def dic(strings_liste):\n",
    "    return {keys: len(keys) for keys in strings_liste}"
   ]
  },
  {
   "cell_type": "code",
   "execution_count": 59,
   "id": "e8047680-c6cf-49b0-b47c-03fa3c4bf0d4",
   "metadata": {},
   "outputs": [
    {
     "data": {
      "text/plain": [
       "{'apple': 5, 'banana': 6, 'cherry': 6}"
      ]
     },
     "execution_count": 59,
     "metadata": {},
     "output_type": "execute_result"
    }
   ],
   "source": [
    "strings_liste= [\"apple\", \"banana\", \"apple\", \"cherry\"]\n",
    "dic(strings_liste)"
   ]
  },
  {
   "cell_type": "markdown",
   "id": "1d4ca88e-b36e-4043-a2c9-33327438327a",
   "metadata": {
    "id": "bea983a3"
   },
   "source": [
    "---\n",
    "\n",
    "### Exercise 72:\n",
    "Write a Python program that counts the number of vowels in a string.\n",
    "\n",
    "```python\n",
    "# Exercise 72\n",
    "```"
   ]
  },
  {
   "cell_type": "code",
   "execution_count": 67,
   "id": "dad9a245-fb8a-4ad3-93aa-1d430153324d",
   "metadata": {},
   "outputs": [],
   "source": [
    "def count(string):\n",
    "    vowels=\"aeoiuy\"\n",
    "    count=0\n",
    "    for i in string:\n",
    "        if i in vowels:\n",
    "           count+=1 \n",
    "    return count"
   ]
  },
  {
   "cell_type": "code",
   "execution_count": 68,
   "id": "dffbce7a-e3f9-4461-bbcf-b2c7c840c7d1",
   "metadata": {},
   "outputs": [
    {
     "data": {
      "text/plain": [
       "13"
      ]
     },
     "execution_count": 68,
     "metadata": {},
     "output_type": "execute_result"
    }
   ],
   "source": [
    "string=\"I relly want to master python, is it possible?\"\n",
    "count(string)"
   ]
  },
  {
   "cell_type": "markdown",
   "id": "fb12c72c-e3ed-4a08-9a3e-75ec48b80df5",
   "metadata": {
    "id": "bea983a3"
   },
   "source": [
    "---\n",
    "\n",
    "### Exercise 73:\n",
    "Create a list of tuples where each tuple contains a number from 1 to 5 and its factorial.\n",
    "\n",
    "```python\n",
    "# Exercise 73\n",
    "```"
   ]
  },
  {
   "cell_type": "code",
   "execution_count": 72,
   "id": "9efdaad7-42af-4882-bd2b-f2619d39c721",
   "metadata": {},
   "outputs": [
    {
     "name": "stdout",
     "output_type": "stream",
     "text": [
      "[(1, 1), (2, 2), (3, 6), (4, 24), (5, 120)]\n"
     ]
    }
   ],
   "source": [
    "import math\n",
    "factorial=[(n,math.factorial(n)) for n in range(1,6)]\n",
    "print(factorial)"
   ]
  },
  {
   "cell_type": "markdown",
   "id": "0c9fa013-53b3-41d4-b647-3fc259839b3d",
   "metadata": {
    "id": "bea983a3"
   },
   "source": [
    "---\n",
    "\n",
    "### Exercise 74:\n",
    "Write a Python program that converts a list of dictionaries into a single dictionary by merging them.\n",
    "\n",
    "```python\n",
    "# Exercise 74\n",
    "```"
   ]
  },
  {
   "cell_type": "code",
   "execution_count": 84,
   "id": "de672354-ff5e-4646-abfb-fb6386b76936",
   "metadata": {},
   "outputs": [],
   "source": [
    "def mrg(list_dico):\n",
    "    dico={}\n",
    "    for d in list_dico:\n",
    "        dico.update(d)\n",
    "    return dico   "
   ]
  },
  {
   "cell_type": "code",
   "execution_count": 85,
   "id": "24404750-3316-4289-b98c-87c7b3307af2",
   "metadata": {},
   "outputs": [
    {
     "data": {
      "text/plain": [
       "{'a': 1, 'b': 2, 'c': 3, 'e': 11, 'f': 23, 'g': 43}"
      ]
     },
     "execution_count": 85,
     "metadata": {},
     "output_type": "execute_result"
    }
   ],
   "source": [
    "dic=({'a':1,'b':2,'c':3},{'e':11,'f':23,'g':43})\n",
    "mrg(dic)"
   ]
  },
  {
   "cell_type": "markdown",
   "id": "c439f03d-ae86-405c-8e16-d05df3f37347",
   "metadata": {
    "id": "bea983a3"
   },
   "source": [
    "---\n",
    "\n",
    "### Exercise 75:\n",
    "Write a Python function that checks if a set is a subset of another set.\n",
    "\n",
    "```python\n",
    "# Exercise 75\n",
    "```"
   ]
  },
  {
   "cell_type": "code",
   "execution_count": 88,
   "id": "5187a9f2-a655-4a45-999f-6533c9bfab44",
   "metadata": {},
   "outputs": [],
   "source": [
    "def set_funct(set1,set2):\n",
    "    return set1.issubset(set2)"
   ]
  },
  {
   "cell_type": "code",
   "execution_count": 89,
   "id": "651181e2-99d1-481c-a865-8eb6a85457f2",
   "metadata": {},
   "outputs": [
    {
     "data": {
      "text/plain": [
       "True"
      ]
     },
     "execution_count": 89,
     "metadata": {},
     "output_type": "execute_result"
    }
   ],
   "source": [
    "setA={1,4,5,7,8,5}\n",
    "setB={24,67,89,53,1,4,5,7,8,5}\n",
    "set_funct(setA,setB)"
   ]
  },
  {
   "cell_type": "markdown",
   "id": "ae668e32-1b70-4f87-b62b-292274308f43",
   "metadata": {
    "id": "bea983a3"
   },
   "source": [
    "---\n",
    "\n",
    "### Exercise 76:\n",
    "Write a Python program that sorts a list of tuples based on the second element in each tuple.\n",
    "\n",
    "```python\n",
    "# Exercise 76\n",
    "```"
   ]
  },
  {
   "cell_type": "code",
   "execution_count": 102,
   "id": "5a4231db-d69d-4996-b0a7-50ab30d68979",
   "metadata": {},
   "outputs": [],
   "source": [
    "def sort_tuple(list_tuple):\n",
    "    return sorted(list_tuple, key=lambda x: x[1])"
   ]
  },
  {
   "cell_type": "code",
   "execution_count": 105,
   "id": "4b0c90e2-38e2-4582-88c3-1a523e9d947b",
   "metadata": {},
   "outputs": [
    {
     "data": {
      "text/plain": [
       "[(3, 1), (5, 2), (2, 3), (1, 4)]"
      ]
     },
     "execution_count": 105,
     "metadata": {},
     "output_type": "execute_result"
    }
   ],
   "source": [
    "l= [(1, 4), (3, 1), (5, 2), (2, 3)]\n",
    "res=sort_tuple(l)\n",
    "sort_tuple(res)"
   ]
  },
  {
   "cell_type": "markdown",
   "id": "9178d62c-dd6e-44db-a076-1de11acda958",
   "metadata": {
    "id": "bea983a3"
   },
   "source": [
    "---\n",
    "\n",
    "### Exercise 77:\n",
    "Write a Python function that takes a list of integers and returns a new list with only the positive integers.\n",
    "\n",
    "```python\n",
    "# Exercise 77\n",
    "```"
   ]
  },
  {
   "cell_type": "code",
   "execution_count": 108,
   "id": "69ae8413-b0f3-4b62-a7c4-6c3c5222dee3",
   "metadata": {},
   "outputs": [],
   "source": [
    "def integer_funct(liste):\n",
    "    lst=[]\n",
    "    for i in liste:\n",
    "        if i<=0:\n",
    "            lst.append(i)\n",
    "    return lst"
   ]
  },
  {
   "cell_type": "code",
   "execution_count": 109,
   "id": "91666e7c-0f89-4730-9fab-01423170f10f",
   "metadata": {},
   "outputs": [
    {
     "data": {
      "text/plain": [
       "[-3, -7, -8]"
      ]
     },
     "execution_count": 109,
     "metadata": {},
     "output_type": "execute_result"
    }
   ],
   "source": [
    "liste=[-3,5,-7,-8,3,6]\n",
    "integer_funct(liste)"
   ]
  },
  {
   "cell_type": "markdown",
   "id": "92f1f269-19e0-4973-9175-76c9abf4774f",
   "metadata": {
    "id": "bea983a3"
   },
   "source": [
    "---\n",
    "\n",
    "### Exercise 78:\n",
    "Write a Python function that takes two sets and returns their union.\n",
    "\n",
    "```python\n",
    "# Exercise 78\n",
    "```"
   ]
  },
  {
   "cell_type": "code",
   "execution_count": 118,
   "id": "dc7cbbe6-31c2-4a2c-9825-414ff0ff4b59",
   "metadata": {},
   "outputs": [],
   "source": [
    "def ensemble(setA,setB):\n",
    "    return setA.union(setB)"
   ]
  },
  {
   "cell_type": "code",
   "execution_count": 119,
   "id": "f4d2d05f-7119-4a82-9eb1-b79c66e570d2",
   "metadata": {},
   "outputs": [
    {
     "data": {
      "text/plain": [
       "{1, 4, 5, 7, 8, 24, 53, 67, 89}"
      ]
     },
     "execution_count": 119,
     "metadata": {},
     "output_type": "execute_result"
    }
   ],
   "source": [
    "setA={1,4,5,7,8,5}\n",
    "setB={24,67,89,53,1,4,5,7,8,5}\n",
    "ensemble(setA,setB)"
   ]
  },
  {
   "cell_type": "markdown",
   "id": "e88b0976-5e8d-4f35-9f81-17fecb3ae478",
   "metadata": {
    "id": "bea983a3"
   },
   "source": [
    "---\n",
    "\n",
    "### Exercise 79:\n",
    "Write a Python function that takes a list of numbers and returns the product of all the numbers.\n",
    "\n",
    "```python\n",
    "# Exercise 79\n",
    "```\n",
    "\n",
    "_"
   ]
  },
  {
   "cell_type": "code",
   "execution_count": 124,
   "id": "812722f8-fbde-4fae-ac83-41fb8a66a3c9",
   "metadata": {},
   "outputs": [],
   "source": [
    "def prod_num(lis_num):\n",
    "    prod=1\n",
    "    for i in lis_num:\n",
    "        prod*=i\n",
    "    return prod\n",
    "        "
   ]
  },
  {
   "cell_type": "code",
   "execution_count": 125,
   "id": "56e186a6-8682-48fc-8925-f6316a60908e",
   "metadata": {},
   "outputs": [
    {
     "data": {
      "text/plain": [
       "162570240"
      ]
     },
     "execution_count": 125,
     "metadata": {},
     "output_type": "execute_result"
    }
   ],
   "source": [
    "lis_num=[1, 2, 3,3,4, 4, 5, 6, 7, 6,7,8,8]\n",
    "prod_num(lis_num)"
   ]
  },
  {
   "cell_type": "markdown",
   "id": "9087a73b-5cb1-48e7-bc52-1914991b6bc9",
   "metadata": {
    "id": "bea983a3"
   },
   "source": [
    "---\n",
    "\n",
    "### Exercise 80:\n",
    "Write a Python program that converts a list of characters into a string.\n",
    "\n",
    "```python\n",
    "# Exercise 80\n",
    "```"
   ]
  },
  {
   "cell_type": "code",
   "execution_count": 126,
   "id": "83eaccd0-ebc9-4a86-92bc-a025ba1f8838",
   "metadata": {},
   "outputs": [],
   "source": [
    "def convert(lst):\n",
    "    return ''.join(lst)"
   ]
  },
  {
   "cell_type": "code",
   "execution_count": 130,
   "id": "c4ea1c4d-b77e-4577-8a07-1e51908d8895",
   "metadata": {},
   "outputs": [
    {
     "name": "stdout",
     "output_type": "stream",
     "text": [
      "je fier d etre chretienne\n"
     ]
    }
   ],
   "source": [
    "lst=['j','e',' ','f','i','e','r',' ','d',' ','e','t','r','e',' ','c','h','r','e','t','i','e','n','n','e']\n",
    "ls=convert(lst)\n",
    "print(ls)"
   ]
  },
  {
   "cell_type": "markdown",
   "id": "096a25a0-6790-4572-a862-727f594729e9",
   "metadata": {
    "id": "bea983a3"
   },
   "source": [
    "---\n",
    "\n",
    "### Exercise 81:\n",
    "Write a Python program that finds the second largest number in a list of integers.\n",
    "\n",
    "```python\n",
    "# Exercise 81\n",
    "```"
   ]
  },
  {
   "cell_type": "code",
   "execution_count": 135,
   "id": "bdf5c6d5-d133-41a8-8599-544cf1d6761c",
   "metadata": {},
   "outputs": [],
   "source": [
    "def largest(liste):\n",
    "    if not liste:\n",
    "        return None\n",
    "    maxi=liste[0]\n",
    "    for i in liste:\n",
    "        if i>maxi:\n",
    "            maxi=i\n",
    "    return maxi"
   ]
  },
  {
   "cell_type": "code",
   "execution_count": 136,
   "id": "5db17041-fd1e-4ea8-b60a-e5f60ad22b94",
   "metadata": {},
   "outputs": [
    {
     "data": {
      "text/plain": [
       "8"
      ]
     },
     "execution_count": 136,
     "metadata": {},
     "output_type": "execute_result"
    }
   ],
   "source": [
    "liste=[1, 2, 3,3,4, 4, 5, 6, 7, 6,7,8,8]\n",
    "largest(liste)"
   ]
  },
  {
   "cell_type": "markdown",
   "id": "a1148740-d6f6-4d4d-9f5e-b02c1bdb7ec7",
   "metadata": {
    "id": "bea983a3"
   },
   "source": [
    "---\n",
    "\n",
    "### Exercise 82:\n",
    "Write a Python function that takes a dictionary and returns a list of its keys in sorted order.\n",
    "\n",
    "```python\n",
    "# Exercise 82\n",
    "```"
   ]
  },
  {
   "cell_type": "code",
   "execution_count": 3,
   "id": "93264674-e25b-4942-a17a-bda05e88bb46",
   "metadata": {},
   "outputs": [],
   "source": [
    "def list_key(dico):\n",
    "    list_keys=[]\n",
    "    for k in dico.keys():\n",
    "        list_keys.append(k)\n",
    "    return list_keys"
   ]
  },
  {
   "cell_type": "code",
   "execution_count": 4,
   "id": "1373723b-9cf4-43d8-938b-7c3af4f9c371",
   "metadata": {},
   "outputs": [
    {
     "data": {
      "text/plain": [
       "['nom', 'âge', 'ville']"
      ]
     },
     "execution_count": 4,
     "metadata": {},
     "output_type": "execute_result"
    }
   ],
   "source": [
    "dico = {\"nom\": \"Alice\", \"âge\": 25, \"ville\": \"Paris\"}\n",
    "list_key(dico)"
   ]
  },
  {
   "cell_type": "markdown",
   "id": "ca0423ca-0331-4248-9ee4-901bb99845e1",
   "metadata": {
    "id": "bea983a3"
   },
   "source": [
    "---\n",
    "\n",
    "### Exercise 83:\n",
    "Write a Python program that finds the most common element in a list.\n",
    "\n",
    "```python\n",
    "# Exercise 83\n",
    "```"
   ]
  },
  {
   "cell_type": "code",
   "execution_count": 2,
   "id": "b99803ba-5da3-4a17-bd9d-4493be84d572",
   "metadata": {},
   "outputs": [],
   "source": [
    "def common_elmt(liste):\n",
    "    total_elmt=liste[0]\n",
    "    counter=0\n",
    "    for i in liste:\n",
    "        count=0\n",
    "        for j in liste:\n",
    "            if i==j:\n",
    "                count+=1\n",
    "        if count>=counter:\n",
    "            counter=count\n",
    "            total_elmt=i\n",
    "    return total_elmt\n",
    "                "
   ]
  },
  {
   "cell_type": "code",
   "execution_count": 4,
   "id": "448cc091",
   "metadata": {},
   "outputs": [
    {
     "data": {
      "text/plain": [
       "6"
      ]
     },
     "execution_count": 4,
     "metadata": {},
     "output_type": "execute_result"
    }
   ],
   "source": [
    "liste=[1, 2, 3,3,4, 4, 5, 6,6, 7, 6,7,8,8]\n",
    "common_elmt(liste)"
   ]
  },
  {
   "cell_type": "markdown",
   "id": "4977540b",
   "metadata": {
    "id": "bea983a3"
   },
   "source": [
    "---\n",
    "\n",
    "### Exercise 84:\n",
    "Write a Python function that takes a list of tuples and returns a list of the tuples sorted by the first element.\n",
    "\n",
    "\n",
    "```python\n",
    "# Exercise 85\n",
    "```\n",
    "---\n"
   ]
  },
  {
   "cell_type": "code",
   "execution_count": 5,
   "id": "f319c20b",
   "metadata": {
    "id": "bea983a3"
   },
   "outputs": [],
   "source": [
    "def sort_tuple_list(liste_tuple):\n",
    "    return sorted(liste_tuple, key=lambda x: x[0])"
   ]
  },
  {
   "cell_type": "code",
   "execution_count": 6,
   "id": "21337e59",
   "metadata": {},
   "outputs": [
    {
     "data": {
      "text/plain": [
       "[('apple', 1), ('banana', 2), ('cherry', 3)]"
      ]
     },
     "execution_count": 6,
     "metadata": {},
     "output_type": "execute_result"
    }
   ],
   "source": [
    "liste_tuple = [('banana', 2), ('apple', 1), ('cherry', 3)]\n",
    "sort_tuple_list(liste_tuple)"
   ]
  },
  {
   "cell_type": "markdown",
   "id": "990cec84",
   "metadata": {
    "id": "bea983a3"
   },
   "source": [
    "---\n",
    "\n",
    "### Exercise 85:\n",
    "Write a Python program that removes duplicates from a list of dictionaries.\n",
    "\n",
    "```python\n",
    "# Exercise 85\n",
    "```"
   ]
  },
  {
   "cell_type": "code",
   "execution_count": 9,
   "id": "5a5d8e25",
   "metadata": {},
   "outputs": [],
   "source": [
    "def removes(dic_list):\n",
    "    dico={}\n",
    "    for k in dic_list:\n",
    "        if k not in dico:\n",
    "            dico.update(k)\n",
    "    return dico"
   ]
  },
  {
   "cell_type": "code",
   "execution_count": 63,
   "id": "039aa595",
   "metadata": {},
   "outputs": [
    {
     "ename": "ValueError",
     "evalue": "dictionary update sequence element #0 has length 1; 2 is required",
     "output_type": "error",
     "traceback": [
      "\u001b[0;31m---------------------------------------------------------------------------\u001b[0m",
      "\u001b[0;31mValueError\u001b[0m                                Traceback (most recent call last)",
      "\u001b[0;32m/tmp/ipykernel_4802/2461051721.py\u001b[0m in \u001b[0;36m<module>\u001b[0;34m\u001b[0m\n\u001b[1;32m      1\u001b[0m \u001b[0mdic_list\u001b[0m\u001b[0;34m=\u001b[0m\u001b[0;34m{\u001b[0m\u001b[0;34m'a'\u001b[0m\u001b[0;34m:\u001b[0m \u001b[0;36m1\u001b[0m\u001b[0;34m,\u001b[0m \u001b[0;34m'b'\u001b[0m\u001b[0;34m:\u001b[0m \u001b[0;36m2\u001b[0m\u001b[0;34m,\u001b[0m \u001b[0;34m'c'\u001b[0m\u001b[0;34m:\u001b[0m \u001b[0;36m3\u001b[0m\u001b[0;34m,\u001b[0m \u001b[0;34m'e'\u001b[0m\u001b[0;34m:\u001b[0m \u001b[0;36m11\u001b[0m\u001b[0;34m,\u001b[0m \u001b[0;34m'f'\u001b[0m\u001b[0;34m:\u001b[0m \u001b[0;36m23\u001b[0m\u001b[0;34m,\u001b[0m \u001b[0;34m'g'\u001b[0m\u001b[0;34m:\u001b[0m \u001b[0;36m43\u001b[0m\u001b[0;34m,\u001b[0m\u001b[0;34m'a'\u001b[0m\u001b[0;34m:\u001b[0m \u001b[0;36m1\u001b[0m\u001b[0;34m,\u001b[0m \u001b[0;34m'b'\u001b[0m\u001b[0;34m:\u001b[0m \u001b[0;36m2\u001b[0m\u001b[0;34m,\u001b[0m \u001b[0;34m'c'\u001b[0m\u001b[0;34m:\u001b[0m \u001b[0;36m3\u001b[0m\u001b[0;34m}\u001b[0m\u001b[0;34m\u001b[0m\u001b[0;34m\u001b[0m\u001b[0m\n\u001b[0;32m----> 2\u001b[0;31m \u001b[0mremoves\u001b[0m\u001b[0;34m(\u001b[0m\u001b[0mdic_list\u001b[0m\u001b[0;34m)\u001b[0m\u001b[0;34m\u001b[0m\u001b[0;34m\u001b[0m\u001b[0m\n\u001b[0m",
      "\u001b[0;32m/tmp/ipykernel_4802/4081856428.py\u001b[0m in \u001b[0;36mremoves\u001b[0;34m(dic_list)\u001b[0m\n\u001b[1;32m      3\u001b[0m     \u001b[0;32mfor\u001b[0m \u001b[0mk\u001b[0m \u001b[0;32min\u001b[0m \u001b[0mdic_list\u001b[0m\u001b[0;34m:\u001b[0m\u001b[0;34m\u001b[0m\u001b[0;34m\u001b[0m\u001b[0m\n\u001b[1;32m      4\u001b[0m         \u001b[0;32mif\u001b[0m \u001b[0mk\u001b[0m \u001b[0;32mnot\u001b[0m \u001b[0;32min\u001b[0m \u001b[0mdico\u001b[0m\u001b[0;34m:\u001b[0m\u001b[0;34m\u001b[0m\u001b[0;34m\u001b[0m\u001b[0m\n\u001b[0;32m----> 5\u001b[0;31m             \u001b[0mdico\u001b[0m\u001b[0;34m.\u001b[0m\u001b[0mupdate\u001b[0m\u001b[0;34m(\u001b[0m\u001b[0mk\u001b[0m\u001b[0;34m)\u001b[0m\u001b[0;34m\u001b[0m\u001b[0;34m\u001b[0m\u001b[0m\n\u001b[0m\u001b[1;32m      6\u001b[0m     \u001b[0;32mreturn\u001b[0m \u001b[0mdico\u001b[0m\u001b[0;34m\u001b[0m\u001b[0;34m\u001b[0m\u001b[0m\n",
      "\u001b[0;31mValueError\u001b[0m: dictionary update sequence element #0 has length 1; 2 is required"
     ]
    }
   ],
   "source": [
    "dic_list={'a': 1, 'b': 2, 'c': 3, 'e': 11, 'f': 23, 'g': 43,'a': 1, 'b': 2, 'c': 3}\n",
    "removes(dic_list)"
   ]
  },
  {
   "cell_type": "markdown",
   "id": "a8e9e23f",
   "metadata": {
    "id": "bea983a3"
   },
   "source": [
    "---\n",
    "\n",
    "### Exercise 86:\n",
    "Write a Python function that takes a list of numbers and returns the minimum and maximum numbers in the list.\n",
    "\n",
    "```python\n",
    "# Exercise 86\n",
    "```"
   ]
  },
  {
   "cell_type": "code",
   "execution_count": 20,
   "id": "07191a41",
   "metadata": {},
   "outputs": [],
   "source": [
    "def min_max(liste):\n",
    "    if not liste:\n",
    "        return None\n",
    "    max_value=max(liste) \n",
    "    min_value=min(liste)\n",
    "    print(f\"Le maximun dans la liste est {max_value}\")\n",
    "    print(f\"Le minimun dans la liste est {min_value}\")"
   ]
  },
  {
   "cell_type": "code",
   "execution_count": 21,
   "id": "54b6053c",
   "metadata": {},
   "outputs": [
    {
     "name": "stdout",
     "output_type": "stream",
     "text": [
      "Le maximun dans la liste est 8\n",
      "Le minimun dans la liste est 1\n"
     ]
    }
   ],
   "source": [
    "liste=[1, 2, 3,3,4, 4, 5, 6,6, 7, 6,7,8,8]\n",
    "min_max(liste)"
   ]
  },
  {
   "cell_type": "markdown",
   "id": "744bfbc7",
   "metadata": {
    "id": "bea983a3"
   },
   "source": [
    "---\n",
    "\n",
    "### Exercise 87:\n",
    "Write a Python program that creates a list of tuples from two lists.\n",
    "\n",
    "```python\n",
    "# Exercise 87\n",
    "```"
   ]
  },
  {
   "cell_type": "code",
   "execution_count": 24,
   "id": "35095260",
   "metadata": {},
   "outputs": [
    {
     "name": "stdout",
     "output_type": "stream",
     "text": [
      "[('Alice', 25), ('Bob', 30), ('Charlie', 35)]\n"
     ]
    }
   ],
   "source": [
    "noms = [\"Alice\", \"Bob\", \"Charlie\"]\n",
    "ages = [25, 30, 35]\n",
    "personnes=list(zip(noms,ages))\n",
    "print(personnes)"
   ]
  },
  {
   "cell_type": "markdown",
   "id": "f2013116",
   "metadata": {
    "id": "bea983a3"
   },
   "source": [
    "---\n",
    "\n",
    "### Exercise 88:\n",
    "Write a Python function that takes a list of strings and returns a list of the strings in reverse order.\n",
    "\n",
    "```python\n",
    "# Exercise 88\n",
    "```"
   ]
  },
  {
   "cell_type": "code",
   "execution_count": 29,
   "id": "8c035c0d",
   "metadata": {},
   "outputs": [],
   "source": [
    "def list_of_string_reverse(lst):\n",
    "    return list(reversed(lst))"
   ]
  },
  {
   "cell_type": "code",
   "execution_count": 30,
   "id": "8b0f8a17",
   "metadata": {},
   "outputs": [
    {
     "data": {
      "text/plain": [
       "['e',\n",
       " 'n',\n",
       " 'n',\n",
       " 'e',\n",
       " 'i',\n",
       " 't',\n",
       " 'e',\n",
       " 'r',\n",
       " 'h',\n",
       " 'c',\n",
       " ' ',\n",
       " 'e',\n",
       " 'r',\n",
       " 't',\n",
       " 'e',\n",
       " ' ',\n",
       " 'd',\n",
       " ' ',\n",
       " 'r',\n",
       " 'e',\n",
       " 'i',\n",
       " 'f',\n",
       " ' ',\n",
       " 'e',\n",
       " 'j']"
      ]
     },
     "execution_count": 30,
     "metadata": {},
     "output_type": "execute_result"
    }
   ],
   "source": [
    "lst=['j','e',' ','f','i','e','r',' ','d',' ','e','t','r','e',' ','c','h','r','e','t','i','e','n','n','e']\n",
    "list_of_string_reverse(lst)"
   ]
  },
  {
   "cell_type": "code",
   "execution_count": 31,
   "id": "22be02b6",
   "metadata": {},
   "outputs": [],
   "source": [
    "def list_string_reverse(lst):\n",
    "    return lst[::-1]"
   ]
  },
  {
   "cell_type": "code",
   "execution_count": 32,
   "id": "f1df5bb1",
   "metadata": {},
   "outputs": [
    {
     "data": {
      "text/plain": [
       "['e',\n",
       " 'n',\n",
       " 'n',\n",
       " 'e',\n",
       " 'i',\n",
       " 't',\n",
       " 'e',\n",
       " 'r',\n",
       " 'h',\n",
       " 'c',\n",
       " ' ',\n",
       " 'e',\n",
       " 'r',\n",
       " 't',\n",
       " 'e',\n",
       " ' ',\n",
       " 'd',\n",
       " ' ',\n",
       " 'r',\n",
       " 'e',\n",
       " 'i',\n",
       " 'f',\n",
       " ' ',\n",
       " 'e',\n",
       " 'j']"
      ]
     },
     "execution_count": 32,
     "metadata": {},
     "output_type": "execute_result"
    }
   ],
   "source": [
    "lst=['j','e',' ','f','i','e','r',' ','d',' ','e','t','r','e',' ','c','h','r','e','t','i','e','n','n','e']\n",
    "list_string_reverse(lst)"
   ]
  },
  {
   "cell_type": "markdown",
   "id": "3a656bba",
   "metadata": {
    "id": "bea983a3"
   },
   "source": [
    "---\n",
    "\n",
    "### Exercise 89:\n",
    "Write a Python function that takes a list of integers and returns the sum of all odd numbers.\n",
    "\n",
    "```python\n",
    "# Exercise 89\n",
    "```"
   ]
  },
  {
   "cell_type": "code",
   "execution_count": 33,
   "id": "89526180",
   "metadata": {},
   "outputs": [],
   "source": [
    "def sum_odd(lst):\n",
    "    liste=[]\n",
    "    for i in lst:\n",
    "        if i%2!=0:\n",
    "            liste.append(i)\n",
    "    return sum(liste)"
   ]
  },
  {
   "cell_type": "code",
   "execution_count": 34,
   "id": "32afb50e",
   "metadata": {},
   "outputs": [
    {
     "data": {
      "text/plain": [
       "26"
      ]
     },
     "execution_count": 34,
     "metadata": {},
     "output_type": "execute_result"
    }
   ],
   "source": [
    "lst=[1, 2, 3,3,4, 4, 5, 6,6, 7, 6,7,8,8]\n",
    "sum_odd(lst)"
   ]
  },
  {
   "cell_type": "markdown",
   "id": "2f139a11",
   "metadata": {
    "id": "bea983a3"
   },
   "source": [
    "---\n",
    "\n",
    "### Exercise 90:\n",
    "Write a Python program that checks if a string is a palindrome.\n",
    "\n",
    "```python\n",
    "# Exercise 90\n",
    "```"
   ]
  },
  {
   "cell_type": "code",
   "execution_count": 41,
   "id": "3709acf1",
   "metadata": {},
   "outputs": [],
   "source": [
    "def palindrome(string):\n",
    "    \n",
    "    return string==string[::-1]"
   ]
  },
  {
   "cell_type": "code",
   "execution_count": 42,
   "id": "808735d2",
   "metadata": {},
   "outputs": [
    {
     "data": {
      "text/plain": [
       "True"
      ]
     },
     "execution_count": 42,
     "metadata": {},
     "output_type": "execute_result"
    }
   ],
   "source": [
    "string=\"RADAR\"\n",
    "palindrome(string)"
   ]
  },
  {
   "cell_type": "markdown",
   "id": "a50ccd06",
   "metadata": {
    "id": "bea983a3"
   },
   "source": [
    "---\n",
    "\n",
    "### Exercise 91:\n",
    "Write a Python program that finds the median of a list of numbers.\n",
    "\n",
    "```python\n",
    "# Exercise 91\n",
    "```"
   ]
  },
  {
   "cell_type": "code",
   "execution_count": 51,
   "id": "356c5cf1",
   "metadata": {},
   "outputs": [],
   "source": [
    "def mediane(lst):\n",
    "    lst=sorted(lst)\n",
    "    n=len(lst)\n",
    "    milieu=n//2\n",
    "    if n%2==0:\n",
    "        return (lst[milieu-1]+lst[milieu])//2\n",
    "    else:\n",
    "        return lst[milieu]"
   ]
  },
  {
   "cell_type": "code",
   "execution_count": 52,
   "id": "c8376986",
   "metadata": {},
   "outputs": [
    {
     "data": {
      "text/plain": [
       "5"
      ]
     },
     "execution_count": 52,
     "metadata": {},
     "output_type": "execute_result"
    }
   ],
   "source": [
    "lst=[1, 2, 3,3,4, 4, 5, 6,6, 7, 6,7,8,8]\n",
    "mediane(lst)"
   ]
  },
  {
   "cell_type": "markdown",
   "id": "95dc60db",
   "metadata": {
    "id": "bea983a3"
   },
   "source": [
    "---\n",
    "\n",
    "### Exercise 92:\n",
    "Write a Python function that takes a list of dictionaries and returns a dictionary with the total value for each key.\n",
    "\n",
    "```python\n",
    "# Exercise 92\n",
    "```"
   ]
  },
  {
   "cell_type": "code",
   "execution_count": null,
   "id": "16a82c37",
   "metadata": {},
   "outputs": [],
   "source": []
  },
  {
   "cell_type": "markdown",
   "id": "b012de0c",
   "metadata": {
    "id": "bea983a3"
   },
   "source": [
    "---\n",
    "\n",
    "### Exercise 93:\n",
    "Write a Python program that calculates the mode of a list of numbers.\n",
    "\n",
    "```python\n",
    "# Exercise 93\n",
    "```"
   ]
  },
  {
   "cell_type": "code",
   "execution_count": 53,
   "id": "84911691",
   "metadata": {},
   "outputs": [],
   "source": [
    "def mode(lst):\n",
    "    max_count=0\n",
    "    mode_value=None\n",
    "    for i in lst:\n",
    "        count=lst.count(i)\n",
    "        if count>max_count:\n",
    "            max_count=count\n",
    "            mode_value=i\n",
    "    return mode_value\n"
   ]
  },
  {
   "cell_type": "code",
   "execution_count": 54,
   "id": "b2eb86c1",
   "metadata": {},
   "outputs": [
    {
     "data": {
      "text/plain": [
       "6"
      ]
     },
     "execution_count": 54,
     "metadata": {},
     "output_type": "execute_result"
    }
   ],
   "source": [
    "lst=[1, 2, 3,3,4, 4, 5, 6,6, 7, 6,7,8,8]\n",
    "mode(lst)"
   ]
  },
  {
   "cell_type": "markdown",
   "id": "ec22d064",
   "metadata": {
    "id": "bea983a3"
   },
   "source": [
    "---\n",
    "\n",
    "### Exercise 94:\n",
    "Write a Python function that takes a list of numbers and returns the sum of the squares of all the numbers.\n",
    "\n",
    "```python\n",
    "# Exercise 94\n",
    "```"
   ]
  },
  {
   "cell_type": "code",
   "execution_count": 57,
   "id": "99f3adf9",
   "metadata": {},
   "outputs": [],
   "source": [
    "def sum_square(lst):\n",
    "    return sum((x*2) for x in lst)"
   ]
  },
  {
   "cell_type": "code",
   "execution_count": 58,
   "id": "393e6133",
   "metadata": {},
   "outputs": [
    {
     "data": {
      "text/plain": [
       "20"
      ]
     },
     "execution_count": 58,
     "metadata": {},
     "output_type": "execute_result"
    }
   ],
   "source": [
    "lst=[1, 2, 3, 4]\n",
    "sum_square(lst)"
   ]
  },
  {
   "cell_type": "markdown",
   "id": "eb2deb0c",
   "metadata": {
    "id": "bea983a3"
   },
   "source": [
    "---\n",
    "\n",
    "### Exercise 95:\n",
    "Write a Python program that creates a list of tuples, where each tuple contains a number and its cube for numbers from 1 to 5.\n",
    "\n",
    "```python\n",
    "# Exercise 95\n",
    "```"
   ]
  },
  {
   "cell_type": "code",
   "execution_count": 62,
   "id": "3b26d936",
   "metadata": {},
   "outputs": [
    {
     "name": "stdout",
     "output_type": "stream",
     "text": [
      "[(1, 1), (2, 8), (3, 27), (4, 64), (5, 125)]\n"
     ]
    }
   ],
   "source": [
    "l= [(x,x**3) for x in range(1,6)]\n",
    "print(l)"
   ]
  },
  {
   "cell_type": "markdown",
   "id": "dc31163f",
   "metadata": {
    "id": "bea983a3"
   },
   "source": [
    "---\n",
    "\n",
    "### Exercise 96:\n",
    "Write a Python function that returns a list of all prime numbers up to `n`.\n",
    "\n",
    "```python\n",
    "# Exercise 96\n",
    "```"
   ]
  },
  {
   "cell_type": "code",
   "execution_count": null,
   "id": "0d3259d2",
   "metadata": {},
   "outputs": [],
   "source": []
  },
  {
   "cell_type": "markdown",
   "id": "8d0809b0",
   "metadata": {
    "id": "bea983a3"
   },
   "source": [
    "---\n",
    "\n",
    "### Exercise 97:\n",
    "Write a Python program that finds the common keys between two dictionaries.\n",
    "\n",
    "```python\n",
    "# Exercise 97\n",
    "```"
   ]
  },
  {
   "cell_type": "code",
   "execution_count": 66,
   "id": "32b2d397",
   "metadata": {},
   "outputs": [
    {
     "name": "stdout",
     "output_type": "stream",
     "text": [
      "{'c', 'e', 'f', 'g'}\n"
     ]
    }
   ],
   "source": [
    "dic1={'a': 1, 'b': 2, 'c': 3, 'e': 11, 'f': 23, 'g': 43,'a': 1, 'b': 2, 'c': 3}\n",
    "dic2={'c': 3, 'e': 11, 'f': 23, 'g': 43}\n",
    "common_keys= set(dic1.keys())& set(dic2.keys())\n",
    "print(common_keys)"
   ]
  },
  {
   "cell_type": "markdown",
   "id": "60399bd7",
   "metadata": {
    "id": "bea983a3"
   },
   "source": [
    "---\n",
    "\n",
    "### Exercise 98:\n",
    "Write a Python function that takes a list of strings and returns a list of the strings that contain more than 5 characters.\n",
    "\n",
    "```python\n",
    "# Exercise 98\n",
    "```"
   ]
  },
  {
   "cell_type": "code",
   "execution_count": 67,
   "id": "e2d94f41",
   "metadata": {},
   "outputs": [],
   "source": [
    "def lg_string(lst_str):\n",
    "    return [l for l in lst_str if len(l)>5]"
   ]
  },
  {
   "cell_type": "code",
   "execution_count": 68,
   "id": "2f1c2958",
   "metadata": {},
   "outputs": [
    {
     "data": {
      "text/plain": [
       "['Charlie']"
      ]
     },
     "execution_count": 68,
     "metadata": {},
     "output_type": "execute_result"
    }
   ],
   "source": [
    "lst_str=[\"Alice\", \"Bob\", \"Charlie\"]\n",
    "lg_string(lst_str)"
   ]
  },
  {
   "cell_type": "markdown",
   "id": "acf6e45e",
   "metadata": {
    "id": "bea983a3"
   },
   "source": [
    "---\n",
    "\n",
    "### Exercise 99:\n",
    "Write a Python program that converts a list of strings into a list of tuples, where each tuple contains the string and its length.\n",
    "\n",
    "```python\n",
    "# Exercise 99\n",
    "```"
   ]
  },
  {
   "cell_type": "code",
   "execution_count": 70,
   "id": "714fee24",
   "metadata": {},
   "outputs": [
    {
     "name": "stdout",
     "output_type": "stream",
     "text": [
      "[('Alice', 5), ('Bob', 3), ('Charlie', 7)]\n"
     ]
    }
   ],
   "source": [
    "lst_str=[\"Alice\", \"Bob\", \"Charlie\"]\n",
    "lst_tuple=[(i,len(i)) for i in lst_str]\n",
    "print(lst_tuple)"
   ]
  },
  {
   "cell_type": "markdown",
   "id": "bea983a3",
   "metadata": {
    "id": "bea983a3"
   },
   "source": [
    "---\n",
    "\n",
    "### Exercise 100:\n",
    "Write a Python function that takes a list of dictionaries and returns a new dictionary by summing the values of each key across all dictionaries.\n",
    "\n",
    "```python\n",
    "# Exercise 100\n",
    "```\n",
    "\n",
    "---"
   ]
  },
  {
   "cell_type": "code",
   "execution_count": 74,
   "id": "861417c8",
   "metadata": {},
   "outputs": [],
   "source": [
    "def sum_dicts(dict_list):\n",
    "    result={}\n",
    "    for d in dict_list:\n",
    "        for key,value in d.items():\n",
    "            if key in result:\n",
    "                result[key] += value\n",
    "            else:\n",
    "                result[key]=value\n",
    "    return result"
   ]
  },
  {
   "cell_type": "code",
   "execution_count": 76,
   "id": "ba9a910e",
   "metadata": {},
   "outputs": [
    {
     "data": {
      "text/plain": [
       "{'a': 1, 'b': 2, 'c': 6, 'e': 22, 'f': 46, 'g': 86}"
      ]
     },
     "execution_count": 76,
     "metadata": {},
     "output_type": "execute_result"
    }
   ],
   "source": [
    "dic1=[{'a': 1, 'b': 2, 'c': 3, 'e': 11, 'f': 23, 'g': 43,'a': 1, 'b': 2, 'c': 3},{'c': 3, 'e': 11, 'f': 23, 'g': 43}]\n",
    "\n",
    "sum_dicts(dic1)"
   ]
  },
  {
   "cell_type": "code",
   "execution_count": null,
   "id": "1f0ad6fd",
   "metadata": {},
   "outputs": [],
   "source": []
  }
 ],
 "metadata": {
  "colab": {
   "provenance": []
  },
  "kernelspec": {
   "display_name": "Python 3 (ipykernel)",
   "language": "python",
   "name": "python3"
  },
  "language_info": {
   "codemirror_mode": {
    "name": "ipython",
    "version": 3
   },
   "file_extension": ".py",
   "mimetype": "text/x-python",
   "name": "python",
   "nbconvert_exporter": "python",
   "pygments_lexer": "ipython3",
   "version": "3.10.12"
  }
 },
 "nbformat": 4,
 "nbformat_minor": 5
}
